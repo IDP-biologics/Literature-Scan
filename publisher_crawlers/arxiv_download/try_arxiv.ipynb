{
 "cells": [
  {
   "cell_type": "code",
   "execution_count": 10,
   "id": "253d4e44-551a-44f8-b33e-0b3875898f34",
   "metadata": {},
   "outputs": [],
   "source": [
    "import arxiv\n",
    "import requests"
   ]
  },
  {
   "cell_type": "code",
   "execution_count": null,
   "id": "3d9f0cbd-cfcc-4842-9c46-31bb552d176e",
   "metadata": {},
   "outputs": [],
   "source": [
    "response = requests.get('http://www.example.com')\n",
    "if response.status_code == 200:"
   ]
  },
  {
   "cell_type": "code",
   "execution_count": 2,
   "id": "8a3910ac-cc7e-475a-936d-5325bd612319",
   "metadata": {},
   "outputs": [],
   "source": [
    "client = arxiv.Client()"
   ]
  },
  {
   "cell_type": "code",
   "execution_count": 5,
   "id": "187aa7af-1a8b-45f2-b827-5bd5e970245e",
   "metadata": {},
   "outputs": [],
   "source": [
    "search = arxiv.Search(\n",
    "            query='quantum',\n",
    "            max_results=100,\n",
    "            sort_by=arxiv.SortCriterion.SubmittedDate\n",
    "        )"
   ]
  },
  {
   "cell_type": "code",
   "execution_count": 6,
   "id": "b3cdbd5d-1352-4640-9f97-b0537575c72b",
   "metadata": {},
   "outputs": [
    {
     "data": {
      "text/plain": [
       "<itertools.islice at 0x1544ee23bec0>"
      ]
     },
     "execution_count": 6,
     "metadata": {},
     "output_type": "execute_result"
    }
   ],
   "source": [
    "client.results(search)"
   ]
  },
  {
   "cell_type": "code",
   "execution_count": 8,
   "id": "601a4b15-a69b-48cb-9042-4d219c36b42f",
   "metadata": {},
   "outputs": [
    {
     "name": "stdout",
     "output_type": "stream",
     "text": [
      "arxiv.Search(query='quantum', id_list=[], max_results=100, sort_by=<SortCriterion.SubmittedDate: 'submittedDate'>, sort_order=<SortOrder.Descending: 'descending'>)\n"
     ]
    }
   ],
   "source": [
    "for result in client.results(search):\n",
    "    print(search)\n",
    "    if any(link.title == \"pdf\" for link in result.links):\n",
    "        break"
   ]
  },
  {
   "cell_type": "code",
   "execution_count": 9,
   "id": "9444ab1d-17f1-410f-be0d-8b04da8edf23",
   "metadata": {},
   "outputs": [
    {
     "data": {
      "text/plain": [
       "arxiv.Result(entry_id='http://arxiv.org/abs/2408.01424v1', updated=datetime.datetime(2024, 8, 2, 17, 59, 51, tzinfo=datetime.timezone.utc), published=datetime.datetime(2024, 8, 2, 17, 59, 51, tzinfo=datetime.timezone.utc), title='Generalised Circuit Partitioning for Distributed Quantum Computing', authors=[arxiv.Result.Author('Felix Burt'), arxiv.Result.Author('Kuan-Cheng Chen'), arxiv.Result.Author('Kin Leung')], summary='Distributed quantum computing (DQC) is a new paradigm aimed at scaling up\\nquantum computing via the interconnection of smaller quantum processing units\\n(QPUs). Shared entanglement allows teleportation of both states and gates\\nbetween QPUs. This leads to an attractive horizontal scaling of quantum\\nprocessing power, which comes at the expense of the additional time and noise\\nintroduced by entanglement sharing protocols. Consequently, methods for\\npartitioning quantum circuits across multiple QPUs should aim to minimise the\\namount of entanglement-based communication required between distributed QPUs.\\nExisting protocols tend to focus primarily on optimising entanglement costs for\\ngate teleportation or state teleportation to cover operations between QPUs,\\nrather than both at the same time. The most general form of the problem should\\ntreat gate and state teleportation on the same footing, allowing minimal cost\\ncircuit partitions through a combination of the two. This work introduces a\\ngraph-based formulation which allows joint optimisation of gate and state\\nteleportation cost, including extensions of gate teleportation which group\\ngates together for distribution using common resources. The formulation permits\\nlow e-bit cost for a variety of circuit types. Using a basic genetic algorithm,\\nimproved performance over state-of-the-art methods is obtained in terms of both\\naverage e-bit cost and time scaling.', comment='10 pages, 13 figures', journal_ref=None, doi=None, primary_category='quant-ph', categories=['quant-ph'], links=[arxiv.Result.Link('http://arxiv.org/abs/2408.01424v1', title=None, rel='alternate', content_type=None), arxiv.Result.Link('http://arxiv.org/pdf/2408.01424v1', title='pdf', rel='related', content_type=None)])"
      ]
     },
     "execution_count": 9,
     "metadata": {},
     "output_type": "execute_result"
    }
   ],
   "source": [
    "result"
   ]
  },
  {
   "cell_type": "code",
   "execution_count": 21,
   "id": "7ac9d009-9aa7-4336-8296-ec1cbfaf948e",
   "metadata": {},
   "outputs": [
    {
     "data": {
      "text/plain": [
       "arxiv.Result(entry_id='http://arxiv.org/abs/2408.01424v1', updated=datetime.datetime(2024, 8, 2, 17, 59, 51, tzinfo=datetime.timezone.utc), published=datetime.datetime(2024, 8, 2, 17, 59, 51, tzinfo=datetime.timezone.utc), title='Generalised Circuit Partitioning for Distributed Quantum Computing', authors=[arxiv.Result.Author('Felix Burt'), arxiv.Result.Author('Kuan-Cheng Chen'), arxiv.Result.Author('Kin Leung')], summary='Distributed quantum computing (DQC) is a new paradigm aimed at scaling up\\nquantum computing via the interconnection of smaller quantum processing units\\n(QPUs). Shared entanglement allows teleportation of both states and gates\\nbetween QPUs. This leads to an attractive horizontal scaling of quantum\\nprocessing power, which comes at the expense of the additional time and noise\\nintroduced by entanglement sharing protocols. Consequently, methods for\\npartitioning quantum circuits across multiple QPUs should aim to minimise the\\namount of entanglement-based communication required between distributed QPUs.\\nExisting protocols tend to focus primarily on optimising entanglement costs for\\ngate teleportation or state teleportation to cover operations between QPUs,\\nrather than both at the same time. The most general form of the problem should\\ntreat gate and state teleportation on the same footing, allowing minimal cost\\ncircuit partitions through a combination of the two. This work introduces a\\ngraph-based formulation which allows joint optimisation of gate and state\\nteleportation cost, including extensions of gate teleportation which group\\ngates together for distribution using common resources. The formulation permits\\nlow e-bit cost for a variety of circuit types. Using a basic genetic algorithm,\\nimproved performance over state-of-the-art methods is obtained in terms of both\\naverage e-bit cost and time scaling.', comment='10 pages, 13 figures', journal_ref=None, doi=None, primary_category='quant-ph', categories=['quant-ph'], links=[arxiv.Result.Link('http://arxiv.org/abs/2408.01424v1', title=None, rel='alternate', content_type=None), arxiv.Result.Link('http://arxiv.org/pdf/2408.01424v1', title='pdf', rel='related', content_type=None)])"
      ]
     },
     "execution_count": 21,
     "metadata": {},
     "output_type": "execute_result"
    }
   ],
   "source": [
    "result"
   ]
  },
  {
   "cell_type": "code",
   "execution_count": 16,
   "id": "ebe39e6f-18c3-4b2d-94ad-a7561b792c85",
   "metadata": {},
   "outputs": [
    {
     "data": {
      "text/plain": [
       "'Felix Burt'"
      ]
     },
     "execution_count": 16,
     "metadata": {},
     "output_type": "execute_result"
    }
   ],
   "source": [
    "arxiv.Result.Author('Felix Burt').name"
   ]
  },
  {
   "cell_type": "code",
   "execution_count": 25,
   "id": "cb377912-64ae-49e1-9cee-16d83a9e2ea6",
   "metadata": {},
   "outputs": [
    {
     "ename": "NameError",
     "evalue": "name 'query' is not defined",
     "output_type": "error",
     "traceback": [
      "\u001b[0;31m---------------------------------------------------------------------------\u001b[0m",
      "\u001b[0;31mNameError\u001b[0m                                 Traceback (most recent call last)",
      "Cell \u001b[0;32mIn[25], line 3\u001b[0m\n\u001b[1;32m      1\u001b[0m client \u001b[38;5;241m=\u001b[39m arxiv\u001b[38;5;241m.\u001b[39mClient()\n\u001b[1;32m      2\u001b[0m search \u001b[38;5;241m=\u001b[39m arxiv\u001b[38;5;241m.\u001b[39mSearch(\n\u001b[0;32m----> 3\u001b[0m     query\u001b[38;5;241m=\u001b[39m\u001b[43mquery\u001b[49m,\n\u001b[1;32m      4\u001b[0m     max_results\u001b[38;5;241m=\u001b[39mmax_results,\n\u001b[1;32m      5\u001b[0m     sort_by\u001b[38;5;241m=\u001b[39marxiv\u001b[38;5;241m.\u001b[39mSortCriterion\u001b[38;5;241m.\u001b[39mSubmittedDate\n\u001b[1;32m      6\u001b[0m )\n\u001b[1;32m      8\u001b[0m articles_with_html \u001b[38;5;241m=\u001b[39m []\n\u001b[1;32m     10\u001b[0m \u001b[38;5;28;01mfor\u001b[39;00m result \u001b[38;5;129;01min\u001b[39;00m client\u001b[38;5;241m.\u001b[39mresults(search):\n",
      "\u001b[0;31mNameError\u001b[0m: name 'query' is not defined"
     ]
    }
   ],
   "source": [
    "client = arxiv.Client()\n",
    "search = arxiv.Search(\n",
    "    query=query,\n",
    "    max_results=max_results,\n",
    "    sort_by=arxiv.SortCriterion.SubmittedDate\n",
    ")\n",
    "        \n",
    "articles_with_html = []\n",
    "\n",
    "for result in client.results(search):\n",
    "    if any(link.title == \"pdf\" for link in result.links):\n",
    "        # check if html exists\n",
    "        #\n",
    "        articles_with_html.append({\n",
    "            'id': result.entry_id,\n",
    "            'title': result.title,\n",
    "            'pdf_url': result.entry_id.replace('abs', 'pdf') + '.pdf',\n",
    "            'html_url': result.entry_id.replace('/abs/', '/html/'),\n",
    "            'authors' : [aut.name for aut in result.authors],\n",
    "            'summary' : result.summary,\n",
    "            'date' : result.date,\n",
    "            'doi' : result.doi,\n",
    "            'prim_cat' : result.primary_category,\n",
    "            'categories' : result.journal_ref,\n",
    "            'journal_ref' : result.journal_ref,\n",
    "        })\n",
    "\n",
    "        break"
   ]
  },
  {
   "cell_type": "code",
   "execution_count": 26,
   "id": "6896c07c-92f9-41d8-8e69-23df27aabb7a",
   "metadata": {},
   "outputs": [
    {
     "ename": "NameError",
     "evalue": "name 'query' is not defined",
     "output_type": "error",
     "traceback": [
      "\u001b[0;31m---------------------------------------------------------------------------\u001b[0m",
      "\u001b[0;31mNameError\u001b[0m                                 Traceback (most recent call last)",
      "Cell \u001b[0;32mIn[26], line 1\u001b[0m\n\u001b[0;32m----> 1\u001b[0m \u001b[43mquery\u001b[49m\n",
      "\u001b[0;31mNameError\u001b[0m: name 'query' is not defined"
     ]
    }
   ],
   "source": [
    "query"
   ]
  },
  {
   "cell_type": "code",
   "execution_count": null,
   "id": "f4c0ac60-ee80-42ef-a544-a2c8da633a57",
   "metadata": {},
   "outputs": [],
   "source": []
  }
 ],
 "metadata": {
  "kernelspec": {
   "display_name": "bo",
   "language": "python",
   "name": "bo"
  },
  "language_info": {
   "codemirror_mode": {
    "name": "ipython",
    "version": 3
   },
   "file_extension": ".py",
   "mimetype": "text/x-python",
   "name": "python",
   "nbconvert_exporter": "python",
   "pygments_lexer": "ipython3",
   "version": "3.11.9"
  }
 },
 "nbformat": 4,
 "nbformat_minor": 5
}
