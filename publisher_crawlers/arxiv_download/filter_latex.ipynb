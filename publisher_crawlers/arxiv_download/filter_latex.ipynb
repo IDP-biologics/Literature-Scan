{
 "cells": [
  {
   "cell_type": "code",
   "execution_count": 1,
   "id": "e9287c61-6d01-4698-9189-70c2ae109f91",
   "metadata": {},
   "outputs": [],
   "source": [
    "from pylatexenc.latex2text import LatexNodes2Text"
   ]
  },
  {
   "cell_type": "code",
   "execution_count": 4,
   "id": "aef072f7-ed54-49c4-a728-f97d77932fb4",
   "metadata": {},
   "outputs": [
    {
     "data": {
      "text/plain": [
       "' This is me'"
      ]
     },
     "execution_count": 4,
     "metadata": {},
     "output_type": "execute_result"
    }
   ],
   "source": [
    "latex = \"\\mbox{Hello World} This is me\"\n",
    "text = LatexNodes2Text().latex_to_text(latex)\n",
    "text"
   ]
  },
  {
   "cell_type": "code",
   "execution_count": null,
   "id": "7419a8be-66dc-4e50-a4d8-6b62c2a57971",
   "metadata": {},
   "outputs": [],
   "source": []
  }
 ],
 "metadata": {
  "kernelspec": {
   "display_name": "bo",
   "language": "python",
   "name": "bo"
  },
  "language_info": {
   "codemirror_mode": {
    "name": "ipython",
    "version": 3
   },
   "file_extension": ".py",
   "mimetype": "text/x-python",
   "name": "python",
   "nbconvert_exporter": "python",
   "pygments_lexer": "ipython3",
   "version": "3.11.9"
  }
 },
 "nbformat": 4,
 "nbformat_minor": 5
}
