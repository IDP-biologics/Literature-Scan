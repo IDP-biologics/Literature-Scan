{
 "cells": [
  {
   "cell_type": "code",
   "execution_count": 1,
   "id": "ee4f23a0-486c-47d1-a2f2-d8740bc585ab",
   "metadata": {},
   "outputs": [],
   "source": [
    "import pandas as pd\n",
    "from pathlib import Path\n",
    "import time\n",
    "from arxiv_utils import ArXiV_HTML_Parser\n",
    "\n",
    "from selenium import webdriver\n",
    "from selenium.webdriver.common.by import By\n",
    "from selenium.webdriver.support.ui import WebDriverWait\n",
    "from selenium.webdriver.support import expected_conditions as EC"
   ]
  },
  {
   "cell_type": "code",
   "execution_count": 3,
   "id": "71d03bcc-073a-4079-b8c6-1915620a677f",
   "metadata": {},
   "outputs": [
    {
     "ename": "TimeoutException",
     "evalue": "Message: \nStacktrace:\n#0 0x55a61179471a <unknown>\n#1 0x55a611465640 <unknown>\n#2 0x55a6114b4c0b <unknown>\n#3 0x55a6114b4ef1 <unknown>\n#4 0x55a6114f8b64 <unknown>\n#5 0x55a6114d790d <unknown>\n#6 0x55a6114f608a <unknown>\n#7 0x55a6114d7683 <unknown>\n#8 0x55a6114a7d71 <unknown>\n#9 0x55a6114a87de <unknown>\n#10 0x55a61175c2ab <unknown>\n#11 0x55a611760242 <unknown>\n#12 0x55a611749665 <unknown>\n#13 0x55a611760dd2 <unknown>\n#14 0x55a61172e2af <unknown>\n#15 0x55a611783eb8 <unknown>\n#16 0x55a611784090 <unknown>\n#17 0x55a6117934ec <unknown>\n#18 0x1525d72e96ea start_thread\n",
     "output_type": "error",
     "traceback": [
      "\u001b[0;31m---------------------------------------------------------------------------\u001b[0m",
      "\u001b[0;31mTimeoutException\u001b[0m                          Traceback (most recent call last)",
      "Cell \u001b[0;32mIn[3], line 29\u001b[0m\n\u001b[1;32m     26\u001b[0m \u001b[38;5;66;03m# Example usage\u001b[39;00m\n\u001b[1;32m     27\u001b[0m \u001b[38;5;66;03m#for url in url_list:\u001b[39;00m\n\u001b[1;32m     28\u001b[0m url \u001b[38;5;241m=\u001b[39m \u001b[38;5;124m'\u001b[39m\u001b[38;5;124mhttps://arxiv.org/html/2408.01415v1\u001b[39m\u001b[38;5;124m'\u001b[39m  \u001b[38;5;66;03m# Replace with the actual URL\u001b[39;00m\n\u001b[0;32m---> 29\u001b[0m author_email_pairs \u001b[38;5;241m=\u001b[39m \u001b[43mscrape_emails\u001b[49m\u001b[43m(\u001b[49m\u001b[43murl\u001b[49m\u001b[43m)\u001b[49m\n\u001b[1;32m     30\u001b[0m \u001b[38;5;28mprint\u001b[39m(author_email_pairs)\n",
      "Cell \u001b[0;32mIn[3], line 12\u001b[0m, in \u001b[0;36mscrape_emails\u001b[0;34m(url)\u001b[0m\n\u001b[1;32m     10\u001b[0m \u001b[38;5;66;03m# Wait for the `ltx_author_notes` element to load\u001b[39;00m\n\u001b[1;32m     11\u001b[0m wait \u001b[38;5;241m=\u001b[39m WebDriverWait(driver, \u001b[38;5;241m10\u001b[39m)\n\u001b[0;32m---> 12\u001b[0m ltx_author_notes_element \u001b[38;5;241m=\u001b[39m \u001b[43mwait\u001b[49m\u001b[38;5;241;43m.\u001b[39;49m\u001b[43muntil\u001b[49m\u001b[43m(\u001b[49m\u001b[43mEC\u001b[49m\u001b[38;5;241;43m.\u001b[39;49m\u001b[43mpresence_of_element_located\u001b[49m\u001b[43m(\u001b[49m\u001b[43m(\u001b[49m\u001b[43mBy\u001b[49m\u001b[38;5;241;43m.\u001b[39;49m\u001b[43mCLASS_NAME\u001b[49m\u001b[43m,\u001b[49m\u001b[43m \u001b[49m\u001b[38;5;124;43m\"\u001b[39;49m\u001b[38;5;124;43mltx_author_notes\u001b[39;49m\u001b[38;5;124;43m\"\u001b[39;49m\u001b[43m)\u001b[49m\u001b[43m)\u001b[49m\u001b[43m)\u001b[49m\n\u001b[1;32m     14\u001b[0m \u001b[38;5;66;03m# Extract the text content from the `ltx_author_notes` element\u001b[39;00m\n\u001b[1;32m     15\u001b[0m content \u001b[38;5;241m=\u001b[39m ltx_author_notes_element\u001b[38;5;241m.\u001b[39mtext\n",
      "File \u001b[0;32m/eagle/projects/tpc/siebenschuh/envs_/bo/lib/python3.11/site-packages/selenium/webdriver/support/wait.py:105\u001b[0m, in \u001b[0;36mWebDriverWait.until\u001b[0;34m(self, method, message)\u001b[0m\n\u001b[1;32m    103\u001b[0m     \u001b[38;5;28;01mif\u001b[39;00m time\u001b[38;5;241m.\u001b[39mmonotonic() \u001b[38;5;241m>\u001b[39m end_time:\n\u001b[1;32m    104\u001b[0m         \u001b[38;5;28;01mbreak\u001b[39;00m\n\u001b[0;32m--> 105\u001b[0m \u001b[38;5;28;01mraise\u001b[39;00m TimeoutException(message, screen, stacktrace)\n",
      "\u001b[0;31mTimeoutException\u001b[0m: Message: \nStacktrace:\n#0 0x55a61179471a <unknown>\n#1 0x55a611465640 <unknown>\n#2 0x55a6114b4c0b <unknown>\n#3 0x55a6114b4ef1 <unknown>\n#4 0x55a6114f8b64 <unknown>\n#5 0x55a6114d790d <unknown>\n#6 0x55a6114f608a <unknown>\n#7 0x55a6114d7683 <unknown>\n#8 0x55a6114a7d71 <unknown>\n#9 0x55a6114a87de <unknown>\n#10 0x55a61175c2ab <unknown>\n#11 0x55a611760242 <unknown>\n#12 0x55a611749665 <unknown>\n#13 0x55a611760dd2 <unknown>\n#14 0x55a61172e2af <unknown>\n#15 0x55a611783eb8 <unknown>\n#16 0x55a611784090 <unknown>\n#17 0x55a6117934ec <unknown>\n#18 0x1525d72e96ea start_thread\n"
     ]
    }
   ],
   "source": [
    "def scrape_emails(url):\n",
    "    # Set up the WebDriver\n",
    "    options = webdriver.ChromeOptions()\n",
    "    options.add_argument('--headless')\n",
    "    driver = webdriver.Chrome(options=options)\n",
    "    \n",
    "    # Load the webpage\n",
    "    driver.get(url)\n",
    "    \n",
    "    # Wait for the `ltx_author_notes` element to load\n",
    "    wait = WebDriverWait(driver, 10)\n",
    "    ltx_author_notes_element = wait.until(EC.presence_of_element_located((By.CLASS_NAME, \"ltx_author_notes\")))\n",
    "    \n",
    "    # Extract the text content from the `ltx_author_notes` element\n",
    "    content = ltx_author_notes_element.text\n",
    "    \n",
    "    # Use regex to find all email addresses in the content\n",
    "    email_pattern = re.compile(r'\\b[A-Za-z0-9._%+-]+@[A-Za-z0-9.-]+\\.[A-Z|a-z]{2,}\\b')\n",
    "    emails = email_pattern.findall(content)\n",
    "    \n",
    "    # Close the WebDriver\n",
    "    driver.quit()\n",
    "    \n",
    "    return emails\n",
    "    \n",
    "# Example usage\n",
    "#for url in url_list:\n",
    "url = 'https://arxiv.org/html/2408.01415v1'  # Replace with the actual URL\n",
    "author_email_pairs = scrape_emails(url)\n",
    "print(author_email_pairs)"
   ]
  },
  {
   "cell_type": "code",
   "execution_count": null,
   "id": "54b22b18-f8ac-4f47-bad3-3e9bbd2d55fb",
   "metadata": {},
   "outputs": [],
   "source": [
    "%%time \n",
    "\n",
    "# Load examples\n",
    "arx = ArXiV_HTML_Parser(wait_time=0.1, max_results=12, categories=['Mathematics'])\n",
    "arx.search_words = ['neural']\n",
    "\n",
    "arx.find_papers()"
   ]
  },
  {
   "cell_type": "code",
   "execution_count": null,
   "id": "446b692e-584b-4030-8e90-3416af2cf192",
   "metadata": {},
   "outputs": [],
   "source": [
    "arx.urls[0]['html_url']"
   ]
  },
  {
   "cell_type": "code",
   "execution_count": null,
   "id": "03d07f21-8de0-4cc9-ab3a-cd89f195a11b",
   "metadata": {},
   "outputs": [],
   "source": [
    "%%time\n",
    "data = arx.extract_all()"
   ]
  },
  {
   "cell_type": "code",
   "execution_count": null,
   "id": "bdee9da9-5abe-4fa4-8e66-2984cd17710a",
   "metadata": {},
   "outputs": [],
   "source": [
    "[(d_i['html_url'],d_i['emails']) for d_i in data]"
   ]
  },
  {
   "cell_type": "code",
   "execution_count": null,
   "id": "4e3f7876-36c6-400c-929c-3ac71cd0921a",
   "metadata": {},
   "outputs": [],
   "source": [
    "from selenium import webdriver\n",
    "from selenium.webdriver.common.by import By\n",
    "from selenium.webdriver.support.ui import WebDriverWait\n",
    "from selenium.webdriver.support import expected_conditions as EC\n",
    "from selenium.common.exceptions import TimeoutException\n",
    "\n",
    "def scrape_subsection_titles(url, sec_to_timeout=10):\n",
    "    # Initialize the WebDriver\n",
    "    options = webdriver.ChromeOptions()\n",
    "    options.add_argument('--headless')  # Run headless browser\n",
    "    driver = webdriver.Chrome(options=options)\n",
    "\n",
    "    # Load the page\n",
    "    driver.get(url)\n",
    "\n",
    "    subsection_titles = []\n",
    "\n",
    "    try:\n",
    "        # Wait until the ltx_toclist element is present\n",
    "        WebDriverWait(driver, sec_to_timeout).until(\n",
    "            EC.presence_of_element_located((By.CLASS_NAME, \"ltx_toclist\"))\n",
    "        )\n",
    "\n",
    "        # Find the ltx_toclist element\n",
    "        #toclist_element = driver.find_element(By.CLASS_NAME, \"ltx_toclist\")\n",
    "\n",
    "        # Find all ltx_tocentry_section elements within the ltx_toclist\n",
    "        subsection_elements = toclist_element.find_elements(By.CLASS_NAME, \"ltx_tocentry_section\")\n",
    "\n",
    "        # Extract the text from each ltx_tocentry_section element\n",
    "        for subsection in subsection_elements:\n",
    "            title_element = subsection.find_element(By.CLASS_NAME, \"ltx_ref_title\")\n",
    "            title = title_element.text.strip()\n",
    "            if title:\n",
    "                subsection_titles.append(title)\n",
    "\n",
    "    except TimeoutException:\n",
    "        # Handle timeout exception\n",
    "        pass\n",
    "    finally:\n",
    "        driver.quit()\n",
    "\n",
    "    return subsection_titles\n",
    "\n",
    "# Example usage:\n",
    "url = \"https://arxiv.org/html/2408.01418v1\"\n",
    "subsection_titles `= scrape_subsection_titles(url)\n",
    "print(subsection_titles)\n"
   ]
  },
  {
   "cell_type": "code",
   "execution_count": null,
   "id": "7a8b65d1-7f72-444b-9b87-c00587a22687",
   "metadata": {},
   "outputs": [],
   "source": [
    "url = \"https://arxiv.org/html/2408.01418v1\"\n",
    "\n",
    "# Initialize the WebDriver\n",
    "options = webdriver.ChromeOptions()\n",
    "options.add_argument('--headless')  # Run headless browser\n",
    "driver = webdriver.Chrome(options=options)\n",
    "\n",
    "# Load the page\n",
    "driver.get(url)\n",
    "\n",
    "subsection_titles = []\n",
    "\n",
    "time.sleep(1.0)\n",
    "\n",
    "# Find the ltx_toclist element\n",
    "toclist_element = driver.find_element(\"ltx_page_name\", \"main\")\n",
    "toclist_element = toclist_element.find_element(By.CLASS_NAME, \"ltx_TOC active\")\n",
    "toclist_element = toclist_element.find_element(By.CLASS_NAME, \"ltx_toclist\") # ltx_tocentry\n",
    "toclist_element = toclist_element.find_element(By.CLASS_NAME, \"ltx_tocentry\") \n",
    "\n",
    "# Find all ltx_tocentry_section elements within the ltx_toclist\n",
    "subsection_elements = toclist_element.find_elements(By.CLASS_NAME, \"ltx_tocentry_section\")\n",
    "\n",
    "# Extract the text from each ltx_tocentry_section element\n",
    "for subsection in subsection_elements:\n",
    "    title_element = subsection.find_element(By.CLASS_NAME, \"ltx_ref_title\")\n",
    "    title = title_element.text.strip()\n",
    "    if title:\n",
    "        subsection_titles.append(title)"
   ]
  },
  {
   "cell_type": "code",
   "execution_count": null,
   "id": "fa3c4d78-d3bb-4c4b-a5c3-0115a72c1a17",
   "metadata": {},
   "outputs": [],
   "source": []
  },
  {
   "cell_type": "code",
   "execution_count": null,
   "id": "05dab4fc-fff8-4ae0-9b96-c97b262c15db",
   "metadata": {},
   "outputs": [],
   "source": [
    "`ltx_page_main, \n",
    "ltx_TOC active,\n",
    "ltx_toclist, \n",
    "ltx_tocentry \n",
    "ltx_tocentry_section, \n",
    "ltx_text ltx_ref_title, \n",
    "ltx_tag ltx_tag_ref to get to the information of each subsection title\n"
   ]
  },
  {
   "cell_type": "code",
   "execution_count": null,
   "id": "6507d929-a84e-4f3c-a3e7-90387c021079",
   "metadata": {},
   "outputs": [],
   "source": []
  },
  {
   "cell_type": "code",
   "execution_count": null,
   "id": "c05c998d-f867-49a3-8645-79b70ea7f4d1",
   "metadata": {},
   "outputs": [],
   "source": [
    "df = pd.DataFrame(data)"
   ]
  },
  {
   "cell_type": "code",
   "execution_count": null,
   "id": "b3c884fc-d216-49e8-b371-235681740fae",
   "metadata": {},
   "outputs": [],
   "source": [
    "df.head(5)"
   ]
  },
  {
   "cell_type": "code",
   "execution_count": null,
   "id": "68b4019e-e13a-44c1-a238-7263d629db8d",
   "metadata": {},
   "outputs": [],
   "source": [
    "pd.to_csv('')"
   ]
  }
 ],
 "metadata": {
  "kernelspec": {
   "display_name": "bo",
   "language": "python",
   "name": "bo"
  },
  "language_info": {
   "codemirror_mode": {
    "name": "ipython",
    "version": 3
   },
   "file_extension": ".py",
   "mimetype": "text/x-python",
   "name": "python",
   "nbconvert_exporter": "python",
   "pygments_lexer": "ipython3",
   "version": "3.11.9"
  }
 },
 "nbformat": 4,
 "nbformat_minor": 5
}
