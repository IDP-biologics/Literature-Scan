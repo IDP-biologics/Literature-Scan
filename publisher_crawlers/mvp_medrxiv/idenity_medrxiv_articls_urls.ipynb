{
 "cells": [
  {
   "cell_type": "code",
   "execution_count": 1,
   "id": "432078b3-d5bc-44a4-a3a0-502593fb7477",
   "metadata": {},
   "outputs": [],
   "source": [
    "import pandas as pd\n",
    "from mvp_medrxiv_utils import MedRXiV_Spider"
   ]
  },
  {
   "cell_type": "code",
   "execution_count": 2,
   "id": "7e065ac6-e632-4be4-9b01-e419b3cdd789",
   "metadata": {},
   "outputs": [
    {
     "name": "stdout",
     "output_type": "stream",
     "text": [
      "500 rounds à 100 hits: ~58 min.\n",
      "CPU times: user 2.2 s, sys: 355 ms, total: 2.55 s\n",
      "Wall time: 4min 9s\n"
     ]
    }
   ],
   "source": [
    "%%time \n",
    "\n",
    "# run spider\n",
    "med_spider = MedRXiV_Spider(50_000, crawl_delay=7.0)\n",
    "med_spider.crawl_medrxiv_metadata()"
   ]
  }
 ],
 "metadata": {
  "kernelspec": {
   "display_name": "bo",
   "language": "python",
   "name": "bo"
  },
  "language_info": {
   "codemirror_mode": {
    "name": "ipython",
    "version": 3
   },
   "file_extension": ".py",
   "mimetype": "text/x-python",
   "name": "python",
   "nbconvert_exporter": "python",
   "pygments_lexer": "ipython3",
   "version": "3.11.9"
  }
 },
 "nbformat": 4,
 "nbformat_minor": 5
}
