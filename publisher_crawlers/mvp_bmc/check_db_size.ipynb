{
 "cells": [
  {
   "cell_type": "code",
   "execution_count": 9,
   "id": "411c9081-846c-460d-8f9b-d6059d3544dc",
   "metadata": {},
   "outputs": [],
   "source": [
    "import pandas as pd\n",
    "from pathlib import Path"
   ]
  },
  {
   "cell_type": "code",
   "execution_count": 10,
   "id": "be79333f-07bb-4fb2-938b-1feeac3376d9",
   "metadata": {},
   "outputs": [],
   "source": [
    "p1 = './registry/bmc_database_lambda.csv'\n",
    "p2 = './registry/bmc_database.csv'"
   ]
  },
  {
   "cell_type": "code",
   "execution_count": 11,
   "id": "4299f71f-a9e9-497b-a672-448794ada67f",
   "metadata": {},
   "outputs": [],
   "source": [
    "df1 = pd.read_csv(p1, sep='|')\n",
    "df2 = pd.read_csv(p2, sep='|')\n",
    "df_combined = pd.concat([df1, df2], axis=0, ignore_index=True)\n",
    "df_combined = df_combined.drop_duplicates(keep='first')"
   ]
  },
  {
   "cell_type": "code",
   "execution_count": 12,
   "id": "5da5a5ad-1879-4bc3-b1a4-3cd92ebb37bd",
   "metadata": {},
   "outputs": [
    {
     "data": {
      "text/html": [
       "<div>\n",
       "<style scoped>\n",
       "    .dataframe tbody tr th:only-of-type {\n",
       "        vertical-align: middle;\n",
       "    }\n",
       "\n",
       "    .dataframe tbody tr th {\n",
       "        vertical-align: top;\n",
       "    }\n",
       "\n",
       "    .dataframe thead th {\n",
       "        text-align: right;\n",
       "    }\n",
       "</style>\n",
       "<table border=\"1\" class=\"dataframe\">\n",
       "  <thead>\n",
       "    <tr style=\"text-align: right;\">\n",
       "      <th></th>\n",
       "      <th>html_url</th>\n",
       "      <th>pdf_url</th>\n",
       "    </tr>\n",
       "  </thead>\n",
       "  <tbody>\n",
       "    <tr>\n",
       "      <th>0</th>\n",
       "      <td>https://energsustainsoc.biomedcentral.com/arti...</td>\n",
       "      <td>https://energsustainsoc.biomedcentral.com/coun...</td>\n",
       "    </tr>\n",
       "    <tr>\n",
       "      <th>2</th>\n",
       "      <td>https://jbiomedsem.biomedcentral.com/articles/...</td>\n",
       "      <td>https://jbiomedsem.biomedcentral.com/counter/p...</td>\n",
       "    </tr>\n",
       "    <tr>\n",
       "      <th>3</th>\n",
       "      <td>https://jbioleng.biomedcentral.com/articles/10...</td>\n",
       "      <td>https://jbioleng.biomedcentral.com/counter/pdf...</td>\n",
       "    </tr>\n",
       "    <tr>\n",
       "      <th>4</th>\n",
       "      <td>https://energsustainsoc.biomedcentral.com/arti...</td>\n",
       "      <td>https://energsustainsoc.biomedcentral.com/coun...</td>\n",
       "    </tr>\n",
       "    <tr>\n",
       "      <th>5</th>\n",
       "      <td>https://jbiomedsem.biomedcentral.com/articles/...</td>\n",
       "      <td>https://jbiomedsem.biomedcentral.com/counter/p...</td>\n",
       "    </tr>\n",
       "    <tr>\n",
       "      <th>...</th>\n",
       "      <td>...</td>\n",
       "      <td>...</td>\n",
       "    </tr>\n",
       "    <tr>\n",
       "      <th>161610</th>\n",
       "      <td>https://biomedical-engineering-online.biomedce...</td>\n",
       "      <td>https://biomedical-engineering-online.biomedce...</td>\n",
       "    </tr>\n",
       "    <tr>\n",
       "      <th>161611</th>\n",
       "      <td>https://biomedical-engineering-online.biomedce...</td>\n",
       "      <td>https://biomedical-engineering-online.biomedce...</td>\n",
       "    </tr>\n",
       "    <tr>\n",
       "      <th>161612</th>\n",
       "      <td>https://energsustainsoc.biomedcentral.com/arti...</td>\n",
       "      <td>https://energsustainsoc.biomedcentral.com/coun...</td>\n",
       "    </tr>\n",
       "    <tr>\n",
       "      <th>161613</th>\n",
       "      <td>https://biomedical-engineering-online.biomedce...</td>\n",
       "      <td>https://biomedical-engineering-online.biomedce...</td>\n",
       "    </tr>\n",
       "    <tr>\n",
       "      <th>161614</th>\n",
       "      <td>https://energsustainsoc.biomedcentral.com/arti...</td>\n",
       "      <td>https://energsustainsoc.biomedcentral.com/coun...</td>\n",
       "    </tr>\n",
       "  </tbody>\n",
       "</table>\n",
       "<p>1669 rows × 2 columns</p>\n",
       "</div>"
      ],
      "text/plain": [
       "                                                 html_url  \\\n",
       "0       https://energsustainsoc.biomedcentral.com/arti...   \n",
       "2       https://jbiomedsem.biomedcentral.com/articles/...   \n",
       "3       https://jbioleng.biomedcentral.com/articles/10...   \n",
       "4       https://energsustainsoc.biomedcentral.com/arti...   \n",
       "5       https://jbiomedsem.biomedcentral.com/articles/...   \n",
       "...                                                   ...   \n",
       "161610  https://biomedical-engineering-online.biomedce...   \n",
       "161611  https://biomedical-engineering-online.biomedce...   \n",
       "161612  https://energsustainsoc.biomedcentral.com/arti...   \n",
       "161613  https://biomedical-engineering-online.biomedce...   \n",
       "161614  https://energsustainsoc.biomedcentral.com/arti...   \n",
       "\n",
       "                                                  pdf_url  \n",
       "0       https://energsustainsoc.biomedcentral.com/coun...  \n",
       "2       https://jbiomedsem.biomedcentral.com/counter/p...  \n",
       "3       https://jbioleng.biomedcentral.com/counter/pdf...  \n",
       "4       https://energsustainsoc.biomedcentral.com/coun...  \n",
       "5       https://jbiomedsem.biomedcentral.com/counter/p...  \n",
       "...                                                   ...  \n",
       "161610  https://biomedical-engineering-online.biomedce...  \n",
       "161611  https://biomedical-engineering-online.biomedce...  \n",
       "161612  https://energsustainsoc.biomedcentral.com/coun...  \n",
       "161613  https://biomedical-engineering-online.biomedce...  \n",
       "161614  https://energsustainsoc.biomedcentral.com/coun...  \n",
       "\n",
       "[1669 rows x 2 columns]"
      ]
     },
     "execution_count": 12,
     "metadata": {},
     "output_type": "execute_result"
    }
   ],
   "source": [
    "df_combined"
   ]
  }
 ],
 "metadata": {
  "kernelspec": {
   "display_name": "bo",
   "language": "python",
   "name": "bo"
  },
  "language_info": {
   "codemirror_mode": {
    "name": "ipython",
    "version": 3
   },
   "file_extension": ".py",
   "mimetype": "text/x-python",
   "name": "python",
   "nbconvert_exporter": "python",
   "pygments_lexer": "ipython3",
   "version": "3.11.9"
  }
 },
 "nbformat": 4,
 "nbformat_minor": 5
}
