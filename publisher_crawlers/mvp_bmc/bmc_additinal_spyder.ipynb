{
 "cells": [
  {
   "cell_type": "code",
   "execution_count": 1,
   "id": "32cee357-35ca-4f70-9847-1ed0d10999b7",
   "metadata": {
    "scrolled": true
   },
   "outputs": [],
   "source": [
    "import pandas as pd\n",
    "from pathlib import Path\n",
    "import re\n",
    "from bmc_urls import bmc_urls\n",
    "\n",
    "from selenium import webdriver\n",
    "from selenium.webdriver.common.by import By\n",
    "from selenium.common.exceptions import NoSuchElementException, TimeoutException\n",
    "import time\n",
    "import socket\n",
    "\n",
    "from bmc_urls import bmc_urls\n",
    "\n",
    "from mvp_bmc_utils import BMC_Spyder, BMC_MVP"
   ]
  },
  {
   "cell_type": "code",
   "execution_count": 2,
   "id": "d74a65f5-045f-4eb4-b92b-ac43ca959a21",
   "metadata": {},
   "outputs": [],
   "source": [
    "## Url List\n",
    "\n",
    "## Find more downloadable URLs\n",
    "bmc = BMC_Spyder(url_list=bmc_urls) # just post-processing now\n",
    "#bmc.complete_database_by_augmenting_pdf_urls()\n",
    "bmc.scrape_all()"
   ]
  },
  {
   "cell_type": "code",
   "execution_count": 14,
   "id": "134aa466-5c49-473b-9f8b-ef2f2dc0d34e",
   "metadata": {},
   "outputs": [],
   "source": [
    "html_urls = list(set([journal.split('/articles')[0] + '/articles/' + article for journal, article in zip(bmc.url_journal, bmc.url_substrings)]))"
   ]
  },
  {
   "cell_type": "code",
   "execution_count": 15,
   "id": "1ab2934b-561e-4f26-93a2-beb1d3dc28fd",
   "metadata": {},
   "outputs": [],
   "source": [
    "df = pd.DataFrame({'html_url' : html_urls})\n",
    "df.to_csv('./registry/bmc_html_only_database.csv', sep='|', index=None)"
   ]
  }
 ],
 "metadata": {
  "kernelspec": {
   "display_name": "bo",
   "language": "python",
   "name": "bo"
  },
  "language_info": {
   "codemirror_mode": {
    "name": "ipython",
    "version": 3
   },
   "file_extension": ".py",
   "mimetype": "text/x-python",
   "name": "python",
   "nbconvert_exporter": "python",
   "pygments_lexer": "ipython3",
   "version": "3.11.9"
  }
 },
 "nbformat": 4,
 "nbformat_minor": 5
}
