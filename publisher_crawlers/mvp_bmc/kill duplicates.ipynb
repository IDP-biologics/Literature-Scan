{
 "cells": [
  {
   "cell_type": "code",
   "execution_count": 1,
   "id": "25dd7b15-8928-4f10-8ca3-313e7729611a",
   "metadata": {},
   "outputs": [],
   "source": [
    "import pandas as pd\n",
    "from pathlib import Path"
   ]
  },
  {
   "cell_type": "code",
   "execution_count": 4,
   "id": "e2d28ba8-09c7-42ed-99a9-e1a9829b9152",
   "metadata": {},
   "outputs": [
    {
     "data": {
      "text/plain": [
       "1540"
      ]
     },
     "execution_count": 4,
     "metadata": {},
     "output_type": "execute_result"
    }
   ],
   "source": [
    "p = Path('../mvp_nature/registry/nature_html_only_database.csv')\n",
    "df = pd.read_csv(p, sep='|')\n",
    "#df = df.drop_duplicates(keep='first')\n",
    "\n",
    "len(df)"
   ]
  },
  {
   "cell_type": "code",
   "execution_count": 10,
   "id": "97831336-6e16-4d97-bce5-ec7fabf0b730",
   "metadata": {},
   "outputs": [],
   "source": [
    "df.to_csv('./registry/bmc_database.csv', sep='|', index=None)"
   ]
  },
  {
   "cell_type": "code",
   "execution_count": null,
   "id": "90aa048a-3fed-4c2e-92b7-632b896d2c93",
   "metadata": {},
   "outputs": [],
   "source": []
  }
 ],
 "metadata": {
  "kernelspec": {
   "display_name": "bo",
   "language": "python",
   "name": "bo"
  },
  "language_info": {
   "codemirror_mode": {
    "name": "ipython",
    "version": 3
   },
   "file_extension": ".py",
   "mimetype": "text/x-python",
   "name": "python",
   "nbconvert_exporter": "python",
   "pygments_lexer": "ipython3",
   "version": "3.11.9"
  }
 },
 "nbformat": 4,
 "nbformat_minor": 5
}
