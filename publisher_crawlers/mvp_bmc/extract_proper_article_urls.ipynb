{
 "cells": [
  {
   "cell_type": "code",
   "execution_count": 2,
   "id": "08f17ce7-ce2d-4701-b1b5-4d610f5b3200",
   "metadata": {},
   "outputs": [],
   "source": [
    "from pathlib import Path\n",
    "import pandas as pd"
   ]
  },
  {
   "cell_type": "code",
   "execution_count": 3,
   "id": "e4dc2e62-a1ad-4e8a-a766-0a73aaf22da4",
   "metadata": {},
   "outputs": [],
   "source": [
    "p = Path('./registry/bmc_html_only_database_LEGACY.csv')\n",
    "df = pd.read_csv(p, sep='|', on_bad_lines='skip')"
   ]
  },
  {
   "cell_type": "code",
   "execution_count": 4,
   "id": "aad6ceef-345f-4068-9c4e-b7889e2f03fb",
   "metadata": {},
   "outputs": [],
   "source": [
    "article_id  = df['html_urls'].str.split('PubDate&page').str[1].str.split('/').str[1:].apply(lambda x: '/'.join(x) if isinstance(x, list) else None)\n",
    "journal_url = df['html_urls'].str.split('/articles').str[0]\n",
    "\n",
    "# clean, merged frame\n",
    "df_cleaned = journal_url[article_id.notna()] + '/articles/' + article_id[article_id.notna()]"
   ]
  },
  {
   "cell_type": "code",
   "execution_count": 8,
   "id": "f08a9dd6-9d61-416d-afd8-5d4321a0ef6c",
   "metadata": {},
   "outputs": [],
   "source": [
    "df = pd.DataFrame({'html_url' : list(df_cleaned)})"
   ]
  },
  {
   "cell_type": "code",
   "execution_count": 9,
   "id": "dc6f6cd6-617d-42e4-bcb5-ab23cfd6a4ee",
   "metadata": {},
   "outputs": [],
   "source": [
    "df.to_csv('./registry/bmc_html_only_database.csv', sep='|', index=None)"
   ]
  },
  {
   "cell_type": "code",
   "execution_count": null,
   "id": "893c1090-addb-49ba-91b2-360331b41793",
   "metadata": {},
   "outputs": [],
   "source": []
  }
 ],
 "metadata": {
  "kernelspec": {
   "display_name": "bo",
   "language": "python",
   "name": "bo"
  },
  "language_info": {
   "codemirror_mode": {
    "name": "ipython",
    "version": 3
   },
   "file_extension": ".py",
   "mimetype": "text/x-python",
   "name": "python",
   "nbconvert_exporter": "python",
   "pygments_lexer": "ipython3",
   "version": "3.11.9"
  }
 },
 "nbformat": 4,
 "nbformat_minor": 5
}
