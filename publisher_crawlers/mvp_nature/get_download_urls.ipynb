{
 "cells": [
  {
   "cell_type": "code",
   "execution_count": 9,
   "id": "ef58e752-5bb3-4eee-a888-6cfa974b2cb3",
   "metadata": {},
   "outputs": [],
   "source": [
    "from mvp_nature_utils import Nature_MVP, Nature_Spyder2\n",
    "import socket"
   ]
  },
  {
   "cell_type": "code",
   "execution_count": 6,
   "id": "ca911247-e5b8-441f-9f72-39164ed6bcbb",
   "metadata": {},
   "outputs": [],
   "source": [
    "n = Nature_MVP(crawl_delay=4)\n",
    "n.complete_database_by_augmenting_pdf_urls()"
   ]
  },
  {
   "cell_type": "code",
   "execution_count": 7,
   "id": "420d0c97-c6b2-47f8-b704-94415747eead",
   "metadata": {},
   "outputs": [
    {
     "data": {
      "text/plain": [
       "['__class__',\n",
       " '__delattr__',\n",
       " '__dict__',\n",
       " '__dir__',\n",
       " '__doc__',\n",
       " '__eq__',\n",
       " '__format__',\n",
       " '__ge__',\n",
       " '__getattribute__',\n",
       " '__getstate__',\n",
       " '__gt__',\n",
       " '__hash__',\n",
       " '__init__',\n",
       " '__init_subclass__',\n",
       " '__le__',\n",
       " '__lt__',\n",
       " '__module__',\n",
       " '__ne__',\n",
       " '__new__',\n",
       " '__reduce__',\n",
       " '__reduce_ex__',\n",
       " '__repr__',\n",
       " '__setattr__',\n",
       " '__sizeof__',\n",
       " '__str__',\n",
       " '__subclasshook__',\n",
       " '__weakref__',\n",
       " 'complete_database_by_augmenting_pdf_urls',\n",
       " 'crawl_delay',\n",
       " 'df_sub',\n",
       " 'download_dir',\n",
       " 'get_arxiv_articles_with_html',\n",
       " 'get_pdf_url']"
      ]
     },
     "execution_count": 7,
     "metadata": {},
     "output_type": "execute_result"
    }
   ],
   "source": [
    "dir(n)"
   ]
  },
  {
   "cell_type": "code",
   "execution_count": 1,
   "id": "747ce13c-cb55-49e9-b03c-57eba6abcae2",
   "metadata": {},
   "outputs": [],
   "source": [
    "import pandas as pd"
   ]
  },
  {
   "cell_type": "code",
   "execution_count": 5,
   "id": "45bbb2a7-610b-4be3-9140-723e2f201c4c",
   "metadata": {},
   "outputs": [
    {
     "data": {
      "text/plain": [
       "560"
      ]
     },
     "execution_count": 5,
     "metadata": {},
     "output_type": "execute_result"
    }
   ],
   "source": [
    "len(set(pd.read_csv('./registry/nature_html_only_database.csv',sep='|')['html_url']))"
   ]
  },
  {
   "cell_type": "code",
   "execution_count": null,
   "id": "a45a7a00-f090-440f-8d8f-fef7fbf579bd",
   "metadata": {},
   "outputs": [],
   "source": []
  }
 ],
 "metadata": {
  "kernelspec": {
   "display_name": "bo",
   "language": "python",
   "name": "bo"
  },
  "language_info": {
   "codemirror_mode": {
    "name": "ipython",
    "version": 3
   },
   "file_extension": ".py",
   "mimetype": "text/x-python",
   "name": "python",
   "nbconvert_exporter": "python",
   "pygments_lexer": "ipython3",
   "version": "3.11.9"
  }
 },
 "nbformat": 4,
 "nbformat_minor": 5
}
