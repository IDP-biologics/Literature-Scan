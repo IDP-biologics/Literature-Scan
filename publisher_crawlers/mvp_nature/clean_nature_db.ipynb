{
 "cells": [
  {
   "cell_type": "code",
   "execution_count": 4,
   "id": "29634c35-1b51-49cd-9486-614a69676362",
   "metadata": {},
   "outputs": [],
   "source": [
    "import pandas as pd\n",
    "from pathlib import Path"
   ]
  },
  {
   "cell_type": "code",
   "execution_count": 5,
   "id": "82f290c8-6f74-44cb-ba57-fa2faa6b3af9",
   "metadata": {},
   "outputs": [],
   "source": [
    "df = pd.read_csv('./registry/nature_html_only_database.csv', sep='|')\n",
    "#df = df[~df['pdf_url'].isna()]\n",
    "df = df.drop_duplicates(subset=['html_url'], keep='first')"
   ]
  },
  {
   "cell_type": "code",
   "execution_count": 6,
   "id": "2f3c2871-ea35-4a3f-9957-6d4a2897cb62",
   "metadata": {},
   "outputs": [
    {
     "data": {
      "text/plain": [
       "560"
      ]
     },
     "execution_count": 6,
     "metadata": {},
     "output_type": "execute_result"
    }
   ],
   "source": [
    "len(df)"
   ]
  },
  {
   "cell_type": "code",
   "execution_count": null,
   "id": "5d1fbbba-c0cb-477a-87c2-754de358a062",
   "metadata": {},
   "outputs": [],
   "source": []
  }
 ],
 "metadata": {
  "kernelspec": {
   "display_name": "bo",
   "language": "python",
   "name": "bo"
  },
  "language_info": {
   "codemirror_mode": {
    "name": "ipython",
    "version": 3
   },
   "file_extension": ".py",
   "mimetype": "text/x-python",
   "name": "python",
   "nbconvert_exporter": "python",
   "pygments_lexer": "ipython3",
   "version": "3.11.9"
  }
 },
 "nbformat": 4,
 "nbformat_minor": 5
}
