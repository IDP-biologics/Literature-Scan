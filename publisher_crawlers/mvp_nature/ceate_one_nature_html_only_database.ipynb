{
 "cells": [
  {
   "cell_type": "code",
   "execution_count": 34,
   "id": "1e7705c2-cc46-47f3-bedf-0da41e783e50",
   "metadata": {},
   "outputs": [],
   "source": [
    "from pathlib import Path\n",
    "import pandas as pd"
   ]
  },
  {
   "cell_type": "code",
   "execution_count": 35,
   "id": "1f26bfc9-1cae-42d3-9351-4533fe3cf128",
   "metadata": {},
   "outputs": [],
   "source": [
    "df1 = pd.read_csv('./registry/nature_html_only_database_1.csv', sep='|')\n",
    "df2 = pd.read_csv('./registry/nature_html_only_database_2.csv', sep='|')\n",
    "df_combined = pd.concat([df1, df2], axis=0, ignore_index=True)\n",
    "df_combined = df_combined.drop_duplicates(keep='first')"
   ]
  },
  {
   "cell_type": "code",
   "execution_count": 38,
   "id": "d6c9e33e-59b0-4778-b8ac-6b665a699f10",
   "metadata": {},
   "outputs": [],
   "source": [
    "df_combined[['html_url']].to_csv('./registry/nature_html_only_database.csv', sep='|', index=None)"
   ]
  },
  {
   "cell_type": "code",
   "execution_count": 5,
   "id": "15cc1b7c-ab7d-49a9-869e-54f7811b39f7",
   "metadata": {},
   "outputs": [],
   "source": [
    "for _,row in df.iterrows():\n",
    "    html_url = row['html_url']\n",
    "\n",
    "    break"
   ]
  },
  {
   "cell_type": "code",
   "execution_count": 6,
   "id": "9c6a23af-0554-4ad4-a0b4-c1cdcd5416f7",
   "metadata": {},
   "outputs": [
    {
     "data": {
      "text/plain": [
       "'https://www.nature.com/articles/nature11400'"
      ]
     },
     "execution_count": 6,
     "metadata": {},
     "output_type": "execute_result"
    }
   ],
   "source": [
    "html_url"
   ]
  },
  {
   "cell_type": "code",
   "execution_count": null,
   "id": "3a478f1d-09cb-4b71-a8d8-c0c0655988ac",
   "metadata": {},
   "outputs": [],
   "source": []
  }
 ],
 "metadata": {
  "kernelspec": {
   "display_name": "bo",
   "language": "python",
   "name": "bo"
  },
  "language_info": {
   "codemirror_mode": {
    "name": "ipython",
    "version": 3
   },
   "file_extension": ".py",
   "mimetype": "text/x-python",
   "name": "python",
   "nbconvert_exporter": "python",
   "pygments_lexer": "ipython3",
   "version": "3.11.9"
  }
 },
 "nbformat": 4,
 "nbformat_minor": 5
}
