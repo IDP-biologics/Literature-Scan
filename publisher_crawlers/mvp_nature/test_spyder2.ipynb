{
 "cells": [
  {
   "cell_type": "code",
   "execution_count": 1,
   "id": "f03ed4a6-6f76-400e-9399-b20df5772f1e",
   "metadata": {},
   "outputs": [],
   "source": [
    "from nature_urls import nature_urls\n",
    "from mvp_nature_utils import Nature_Spyder2"
   ]
  },
  {
   "cell_type": "code",
   "execution_count": 2,
   "id": "b0e68bab-873d-4d5a-92bc-6b5b3cfb6706",
   "metadata": {},
   "outputs": [],
   "source": [
    "# Test Spyder2"
   ]
  },
  {
   "cell_type": "code",
   "execution_count": 3,
   "id": "8cdcc858-4e08-4489-b294-ca165d3f0c3e",
   "metadata": {},
   "outputs": [],
   "source": [
    "ns2 = Nature_Spyder2(nature_urls)"
   ]
  },
  {
   "cell_type": "code",
   "execution_count": 4,
   "id": "2c66f36c-3c79-41d1-b3a7-21a21947bb05",
   "metadata": {},
   "outputs": [],
   "source": [
    "ns2 = Nature_Spyder2(nature_urls)\n",
    "ns2.scrape_all()\n",
    "ns2.html_urls"
   ]
  },
  {
   "cell_type": "code",
   "execution_count": 6,
   "id": "20d90252-ffd5-411c-bd8c-6c61fcb55ec0",
   "metadata": {},
   "outputs": [
    {
     "data": {
      "text/plain": [
       "['https://www.nature.com/articles/s41586-024-07874-3',\n",
       " 'https://www.nature.com/articles/s41586-024-07739-9',\n",
       " 'https://www.nature.com/articles/s41586-024-07796-0',\n",
       " 'https://www.nature.com/articles/s41586-024-07784-4',\n",
       " 'https://www.nature.com/articles/s41586-024-07772-8',\n",
       " 'https://www.nature.com/articles/s41586-024-07803-4',\n",
       " 'https://www.nature.com/articles/s41586-024-07787-1',\n",
       " 'https://www.nature.com/articles/s41586-024-07782-6',\n",
       " 'https://www.nature.com/articles/s41586-024-07726-0',\n",
       " 'https://www.nature.com/articles/s41586-024-07747-9',\n",
       " 'https://www.nature.com/articles/s41586-024-07801-6',\n",
       " 'https://www.nature.com/articles/s41586-024-07717-1',\n",
       " 'https://www.nature.com/articles/s41586-024-07769-3',\n",
       " 'https://www.nature.com/articles/s41586-024-07797-z',\n",
       " 'https://www.nature.com/articles/s41586-024-07804-3',\n",
       " 'https://www.nature.com/articles/s41586-024-07788-0',\n",
       " 'https://www.nature.com/articles/s41586-024-07672-x',\n",
       " 'https://www.nature.com/articles/s41586-024-07731-3',\n",
       " 'https://www.nature.com/articles/s41586-024-07767-5',\n",
       " 'https://www.nature.com/articles/s41586-024-07786-2']"
      ]
     },
     "execution_count": 6,
     "metadata": {},
     "output_type": "execute_result"
    }
   ],
   "source": []
  },
  {
   "cell_type": "code",
   "execution_count": null,
   "id": "a5d90096-c513-4ab8-94e9-21d62a84848c",
   "metadata": {},
   "outputs": [],
   "source": []
  }
 ],
 "metadata": {
  "kernelspec": {
   "display_name": "bo",
   "language": "python",
   "name": "bo"
  },
  "language_info": {
   "codemirror_mode": {
    "name": "ipython",
    "version": 3
   },
   "file_extension": ".py",
   "mimetype": "text/x-python",
   "name": "python",
   "nbconvert_exporter": "python",
   "pygments_lexer": "ipython3",
   "version": "3.11.9"
  }
 },
 "nbformat": 4,
 "nbformat_minor": 5
}
