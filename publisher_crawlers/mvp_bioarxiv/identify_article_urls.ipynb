{
 "cells": [
  {
   "cell_type": "code",
   "execution_count": 5,
   "id": "3e0030bf-154b-48c0-b658-99f85b3c608a",
   "metadata": {},
   "outputs": [],
   "source": [
    "import pandas as pd\n",
    "from mvp_biorxiv_utils import BioRXiV_Spider"
   ]
  },
  {
   "cell_type": "code",
   "execution_count": 6,
   "id": "1be4b3d6-ff37-48aa-b508-d7e7856b2399",
   "metadata": {},
   "outputs": [
    {
     "name": "stdout",
     "output_type": "stream",
     "text": [
      "500 rounds à 100 hits: ~58.0 min.\n",
      "Error in iteration 384 ... HTTPSConnectionPool(host='api.biorxiv.org', port=443): Max retries exceeded with url: /details/biorxiv/2022-04-03/2022-04-07/322 (Caused by ProxyError('Unable to connect to proxy', RemoteDisconnected('Remote end closed connection without response')))\n",
      "CPU times: user 3.47 s, sys: 6.03 s, total: 9.5 s\n",
      "Wall time: 47min 33s\n"
     ]
    }
   ],
   "source": [
    "%%time \n",
    "\n",
    "# run spider\n",
    "b_spider = BioRXiV_Spider(50_000, \n",
    "                          crawl_delay=7.0,\n",
    "                          df_path='./registry/biorxiv_crawl_3.csv')\n",
    "b_spider.crawl_bioarxiv_metadata()"
   ]
  },
  {
   "cell_type": "code",
   "execution_count": 9,
   "id": "6012b125-d51f-43ce-86f3-1943695bdcb6",
   "metadata": {},
   "outputs": [
    {
     "data": {
      "text/plain": [
       "23964"
      ]
     },
     "execution_count": 9,
     "metadata": {},
     "output_type": "execute_result"
    }
   ],
   "source": [
    "len(set(pd.read_csv('./registry/biorxiv_crawl_3.csv', sep='|')['doi']))"
   ]
  },
  {
   "cell_type": "code",
   "execution_count": 10,
   "id": "9cc4c75f-5b6d-4a02-9410-12c17a806a6c",
   "metadata": {},
   "outputs": [
    {
     "data": {
      "text/plain": [
       "30592.340425531915"
      ]
     },
     "execution_count": 10,
     "metadata": {},
     "output_type": "execute_result"
    }
   ],
   "source": [
    "23964 / (47.0 / 60.0)"
   ]
  },
  {
   "cell_type": "code",
   "execution_count": null,
   "id": "a64c1370-31b1-48f4-bd19-0be5243fe75b",
   "metadata": {},
   "outputs": [],
   "source": []
  }
 ],
 "metadata": {
  "kernelspec": {
   "display_name": "bo",
   "language": "python",
   "name": "bo"
  },
  "language_info": {
   "codemirror_mode": {
    "name": "ipython",
    "version": 3
   },
   "file_extension": ".py",
   "mimetype": "text/x-python",
   "name": "python",
   "nbconvert_exporter": "python",
   "pygments_lexer": "ipython3",
   "version": "3.11.9"
  }
 },
 "nbformat": 4,
 "nbformat_minor": 5
}
