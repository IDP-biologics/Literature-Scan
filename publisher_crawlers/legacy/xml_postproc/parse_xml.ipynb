{
 "cells": [
  {
   "cell_type": "code",
   "execution_count": 1,
   "id": "47d34b02-d9c9-4f38-93e8-ed316ee6b59d",
   "metadata": {},
   "outputs": [],
   "source": [
    "from xml_utils import XMLSciDocParser\n",
    "\n",
    "from pathlib import Path"
   ]
  },
  {
   "cell_type": "markdown",
   "id": "fae6587e-7372-4861-a534-1c92116d5e91",
   "metadata": {},
   "source": [
    "## Parse Grobid output\n",
    "\n",
    "GROBID parses PDF files into XMLs. These need further post-processing that depends on the PDF layout (journal-specific). \n",
    "This script does this and stores the text/meta information into `joint_to_grobid` that other parsers do automatically."
   ]
  },
  {
   "cell_type": "code",
   "execution_count": 2,
   "id": "f7a7110d-736f-4ff0-9e10-546c9654755b",
   "metadata": {},
   "outputs": [
    {
     "name": "stdout",
     "output_type": "stream",
     "text": [
      "Found 23040 XML files to parse...\n",
      "... Completed postprocessing of all XML files.\n",
      "CPU times: user 1min 30s, sys: 7.35 s, total: 1min 37s\n",
      "Wall time: 1min 41s\n"
     ]
    }
   ],
   "source": [
    "%%time \n",
    "\n",
    "# Parse\n",
    "xml_parser = XMLSciDocParser(n=-1,\n",
    "                             path=Path('/lus/eagle/projects/argonne_tpc/siebenschuh/aurora_gpt/grobid_parse_of_joint'),\n",
    "                             save_dir=Path('/lus/eagle/projects/argonne_tpc/siebenschuh/aurora_gpt/joint_to_grobid/parsed_pdfs'))\n",
    "xml_parser.parse_to_jsonl()\n",
    "xml_parser.save_jsonl_files()"
   ]
  }
 ],
 "metadata": {
  "kernelspec": {
   "display_name": "bo",
   "language": "python",
   "name": "bo"
  },
  "language_info": {
   "codemirror_mode": {
    "name": "ipython",
    "version": 3
   },
   "file_extension": ".py",
   "mimetype": "text/x-python",
   "name": "python",
   "nbconvert_exporter": "python",
   "pygments_lexer": "ipython3",
   "version": "3.11.9"
  }
 },
 "nbformat": 4,
 "nbformat_minor": 5
}
