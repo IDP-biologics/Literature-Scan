{
 "cells": [
  {
   "cell_type": "code",
   "execution_count": 36,
   "id": "a93b4dfc-4315-4f1d-9526-42bc33ef1731",
   "metadata": {},
   "outputs": [],
   "source": [
    "import pandas as pd"
   ]
  },
  {
   "cell_type": "code",
   "execution_count": 37,
   "id": "8c4fb735-3e3c-4ce6-92ec-fd247aa2746b",
   "metadata": {},
   "outputs": [
    {
     "data": {
      "text/plain": [
       "1561"
      ]
     },
     "execution_count": 37,
     "metadata": {},
     "output_type": "execute_result"
    }
   ],
   "source": [
    "# Count unique entries\n",
    "df_new = pd.read_csv('./registry/plos_database.csv', sep='|')\n",
    "\n",
    "last_part  = df_new['html_url'].str.split('/').str[-1]\n",
    "df_unique = df_new[~last_part.duplicated(keep='first')]\n",
    "\n",
    "len(df_unique)"
   ]
  },
  {
   "cell_type": "code",
   "execution_count": 38,
   "id": "e4538d07-2c08-4e9b-9888-7a72bf903f26",
   "metadata": {},
   "outputs": [
    {
     "data": {
      "text/html": [
       "<div>\n",
       "<style scoped>\n",
       "    .dataframe tbody tr th:only-of-type {\n",
       "        vertical-align: middle;\n",
       "    }\n",
       "\n",
       "    .dataframe tbody tr th {\n",
       "        vertical-align: top;\n",
       "    }\n",
       "\n",
       "    .dataframe thead th {\n",
       "        text-align: right;\n",
       "    }\n",
       "</style>\n",
       "<table border=\"1\" class=\"dataframe\">\n",
       "  <thead>\n",
       "    <tr style=\"text-align: right;\">\n",
       "      <th></th>\n",
       "      <th>html_url</th>\n",
       "    </tr>\n",
       "  </thead>\n",
       "  <tbody>\n",
       "    <tr>\n",
       "      <th>0</th>\n",
       "      <td>https://dx.plos.org/10.1371/journal.pbio.3002655</td>\n",
       "    </tr>\n",
       "    <tr>\n",
       "      <th>1</th>\n",
       "      <td>https://dx.plos.org/10.1371/journal.pbio.3002687</td>\n",
       "    </tr>\n",
       "    <tr>\n",
       "      <th>2</th>\n",
       "      <td>https://dx.plos.org/10.1371/journal.pbio.3002638</td>\n",
       "    </tr>\n",
       "    <tr>\n",
       "      <th>3</th>\n",
       "      <td>https://dx.plos.org/10.1371/journal.pbio.3002619</td>\n",
       "    </tr>\n",
       "    <tr>\n",
       "      <th>4</th>\n",
       "      <td>https://dx.plos.org/10.1371/journal.pbio.3002695</td>\n",
       "    </tr>\n",
       "  </tbody>\n",
       "</table>\n",
       "</div>"
      ],
      "text/plain": [
       "                                           html_url\n",
       "0  https://dx.plos.org/10.1371/journal.pbio.3002655\n",
       "1  https://dx.plos.org/10.1371/journal.pbio.3002687\n",
       "2  https://dx.plos.org/10.1371/journal.pbio.3002638\n",
       "3  https://dx.plos.org/10.1371/journal.pbio.3002619\n",
       "4  https://dx.plos.org/10.1371/journal.pbio.3002695"
      ]
     },
     "execution_count": 38,
     "metadata": {},
     "output_type": "execute_result"
    }
   ],
   "source": [
    "df_new.head()"
   ]
  },
  {
   "cell_type": "code",
   "execution_count": null,
   "id": "dc8abc57-a4e7-4aac-96d2-caf46d68c6af",
   "metadata": {},
   "outputs": [],
   "source": [
    "pd.read_csv('./registry/plos_2database.csv', sep='|')"
   ]
  },
  {
   "cell_type": "code",
   "execution_count": 14,
   "id": "bea9b2a6-91a7-4931-9265-fa873df28ef9",
   "metadata": {},
   "outputs": [
    {
     "data": {
      "text/plain": [
       "0       journal.pbio.3002655\n",
       "1       journal.pbio.3002687\n",
       "2       journal.pbio.3002638\n",
       "3       journal.pbio.3002619\n",
       "4       journal.pbio.3002695\n",
       "                ...         \n",
       "1487    journal.pbio.3000978\n",
       "1488    journal.pbio.3000919\n",
       "1489    journal.pbio.3000937\n",
       "1490    journal.pbio.3001052\n",
       "1491    journal.pbio.3000969\n",
       "Name: html_url, Length: 1492, dtype: object"
      ]
     },
     "execution_count": 14,
     "metadata": {},
     "output_type": "execute_result"
    }
   ],
   "source": [
    "df_new['html_url'].str.split('/').str[-1]"
   ]
  },
  {
   "cell_type": "code",
   "execution_count": null,
   "id": "0f94ef7e-f57d-4cc0-81ff-b13e1e42569c",
   "metadata": {},
   "outputs": [],
   "source": []
  }
 ],
 "metadata": {
  "kernelspec": {
   "display_name": "bo",
   "language": "python",
   "name": "bo"
  },
  "language_info": {
   "codemirror_mode": {
    "name": "ipython",
    "version": 3
   },
   "file_extension": ".py",
   "mimetype": "text/x-python",
   "name": "python",
   "nbconvert_exporter": "python",
   "pygments_lexer": "ipython3",
   "version": "3.11.9"
  }
 },
 "nbformat": 4,
 "nbformat_minor": 5
}
