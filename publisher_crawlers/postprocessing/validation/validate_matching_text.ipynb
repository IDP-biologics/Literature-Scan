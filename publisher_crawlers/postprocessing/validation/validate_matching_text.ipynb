{
 "cells": [
  {
   "cell_type": "markdown",
   "id": "efec15f1-6b61-4d0e-bfff-0d58ea22477a",
   "metadata": {},
   "source": [
    "## Correct matching of parsed text and PDF sourcde paths\n",
    "\n",
    "Some BLEU score exceedingly low. Source `html` text appears completely different from parsed text of `nougat` and `grobid`... Check the jsonls to see if the error occured there."
   ]
  },
  {
   "cell_type": "code",
   "execution_count": 2,
   "id": "cc959acc-3af5-4eda-a2c0-3dac54aab65e",
   "metadata": {},
   "outputs": [],
   "source": [
    "from pathlib import Path\n",
    "import json\n",
    "import pandas as pd\n",
    "import os"
   ]
  },
  {
   "cell_type": "markdown",
   "id": "cd8221ce-b94a-469a-a62a-8e4ec6faa598",
   "metadata": {},
   "source": [
    "## 1. Check jsonls."
   ]
  },
  {
   "cell_type": "code",
   "execution_count": null,
   "id": "fc9ca0ad-910e-4537-ab54-291b56c14802",
   "metadata": {},
   "outputs": [],
   "source": [
    "%%time \n",
    "\n",
    "p_root = Path('/lus/eagle/projects/argonne_tpc/siebenschuh/aurora_gpt/')\n",
    "\n",
    "sources = ['html', 'grobid', 'pymupdf', 'nougat']\n",
    "\n",
    "dst_list = []\n",
    "\n",
    "target_path = '1009.1049v1'\n",
    "\n",
    "for source in sources:\n",
    "    p_local = p_root / ('joint_to_' + source) / 'parsed_pdfs'\n",
    "\n",
    "    # jsonl\n",
    "    json_l_file_paths = [p_local / f for f in os.listdir(p_local) if f.endswith('.jsonl')]\n",
    "\n",
    "    # Loop through each JSONL file\n",
    "    for jsonl_path in json_l_file_paths:\n",
    "        # Open and read the JSONL file line by line\n",
    "        with open(jsonl_path, 'r') as f:\n",
    "            for line in f:\n",
    "                try:\n",
    "                    # Parse the line as a JSON object (dictionary)\n",
    "                    data = json.loads(line)\n",
    "                    \n",
    "                    # Check if 'path' key contains the target string\n",
    "                    if 'path' in data and target_path in data['path']:\n",
    "                        print(f\"Match found in {jsonl_path}: {data}\")\n",
    "                        dst_list.append(data)\n",
    "                        \n",
    "                        # Optionally, store or process the dictionary as needed\n",
    "                        # e.g., store in a list or write to another file\n",
    "\n",
    "                except json.JSONDecodeError:\n",
    "                    print(f\"Error decoding JSON in file {jsonl_path}\")"
   ]
  },
  {
   "cell_type": "code",
   "execution_count": null,
   "id": "8fd37f8e-ad97-4e0b-8c91-2915f51e435a",
   "metadata": {},
   "outputs": [],
   "source": [
    "# dst_list"
   ]
  },
  {
   "cell_type": "markdown",
   "id": "20e6be79-5dad-41d6-ab74-74806c62a49f",
   "metadata": {},
   "source": [
    "## 2. Check \n",
    "```\n",
    "/lus/eagle/projects/argonne_tpc/siebenschuh/aurora_gpt/database/parser_text_output_raw_new.csv\n",
    "```"
   ]
  },
  {
   "cell_type": "code",
   "execution_count": 3,
   "id": "ff1f8fe0-41b7-412b-a67d-b8d595dad87e",
   "metadata": {},
   "outputs": [
    {
     "data": {
      "text/plain": [
       "Index(['path', 'html', 'nougat', 'pymupdf', 'grobid'], dtype='object')"
      ]
     },
     "execution_count": 3,
     "metadata": {},
     "output_type": "execute_result"
    }
   ],
   "source": [
    "p_csv = '/lus/eagle/projects/argonne_tpc/siebenschuh/aurora_gpt/database/outraw_0.csv'\n",
    "df = pd.read_csv(p_csv, sep='|')\n",
    "\n",
    "df.columns"
   ]
  },
  {
   "cell_type": "code",
   "execution_count": 4,
   "id": "de491c45-3fbc-4c3d-9fa3-aab22ad5bc4d",
   "metadata": {},
   "outputs": [
    {
     "data": {
      "text/plain": [
       "23397"
      ]
     },
     "execution_count": 4,
     "metadata": {},
     "output_type": "execute_result"
    }
   ],
   "source": [
    "len(set(df['path']))"
   ]
  },
  {
   "cell_type": "code",
   "execution_count": 5,
   "id": "d5b40362-7410-4dbd-9cb1-549f90481e77",
   "metadata": {},
   "outputs": [
    {
     "data": {
      "text/html": [
       "<div>\n",
       "<style scoped>\n",
       "    .dataframe tbody tr th:only-of-type {\n",
       "        vertical-align: middle;\n",
       "    }\n",
       "\n",
       "    .dataframe tbody tr th {\n",
       "        vertical-align: top;\n",
       "    }\n",
       "\n",
       "    .dataframe thead th {\n",
       "        text-align: right;\n",
       "    }\n",
       "</style>\n",
       "<table border=\"1\" class=\"dataframe\">\n",
       "  <thead>\n",
       "    <tr style=\"text-align: right;\">\n",
       "      <th></th>\n",
       "      <th>path</th>\n",
       "      <th>html</th>\n",
       "      <th>nougat</th>\n",
       "      <th>pymupdf</th>\n",
       "      <th>grobid</th>\n",
       "    </tr>\n",
       "  </thead>\n",
       "  <tbody>\n",
       "    <tr>\n",
       "      <th>0</th>\n",
       "      <td>arxiv/pdf/2207.11282v4.pdf</td>\n",
       "      <td>Abstract The fundamental relationship between ...</td>\n",
       "      <td># Communities in C.elegans connectome through ...</td>\n",
       "      <td>Communities in C.elegans connectome through th...</td>\n",
       "      <td>The fundamental relationship between the mesos...</td>\n",
       "    </tr>\n",
       "    <tr>\n",
       "      <th>1</th>\n",
       "      <td>arxiv/pdf/2303.02697v2.pdf</td>\n",
       "      <td>I Introduction Biological microswimmers are kn...</td>\n",
       "      <td># Self-organized vortex phases and hydrodynami...</td>\n",
       "      <td>Self-organized vortex phases and hydrodynamic ...</td>\n",
       "      <td>Flocking behavior is observed in biological sy...</td>\n",
       "    </tr>\n",
       "    <tr>\n",
       "      <th>2</th>\n",
       "      <td>arxiv/pdf/2306.11599v2.pdf</td>\n",
       "      <td>1 Introduction The theory developed in this pa...</td>\n",
       "      <td># Collective Arbitrage and the Value of Cooper...</td>\n",
       "      <td>arXiv:2306.11599v2  [q-fin.MF]  30 May 2024\\nC...</td>\n",
       "      <td>We introduce the notions of Collective Arbitra...</td>\n",
       "    </tr>\n",
       "    <tr>\n",
       "      <th>3</th>\n",
       "      <td>arxiv/pdf/2306.11872v2.pdf</td>\n",
       "      <td>I Introduction Energy storage is pivotal in ba...</td>\n",
       "      <td># Predicting Strategic Energy Storage Behavior...</td>\n",
       "      <td>1\\nPredicting Strategic Energy Storage Behavio...</td>\n",
       "      <td>Energy storage are strategic participants in e...</td>\n",
       "    </tr>\n",
       "    <tr>\n",
       "      <th>4</th>\n",
       "      <td>arxiv/pdf/2307.00277v1.pdf</td>\n",
       "      <td>Nomenclature -A parameters and sets l]p35pt p2...</td>\n",
       "      <td>Optimally Coordinated Energy Management Framew...</td>\n",
       "      <td>IEEE SYSTEMS JOURNAL L\\nA\\nT\\nEX CLASS FILES, ...</td>\n",
       "      <td>Contemporary distribution network can be seen ...</td>\n",
       "    </tr>\n",
       "  </tbody>\n",
       "</table>\n",
       "</div>"
      ],
      "text/plain": [
       "                         path  \\\n",
       "0  arxiv/pdf/2207.11282v4.pdf   \n",
       "1  arxiv/pdf/2303.02697v2.pdf   \n",
       "2  arxiv/pdf/2306.11599v2.pdf   \n",
       "3  arxiv/pdf/2306.11872v2.pdf   \n",
       "4  arxiv/pdf/2307.00277v1.pdf   \n",
       "\n",
       "                                                html  \\\n",
       "0  Abstract The fundamental relationship between ...   \n",
       "1  I Introduction Biological microswimmers are kn...   \n",
       "2  1 Introduction The theory developed in this pa...   \n",
       "3  I Introduction Energy storage is pivotal in ba...   \n",
       "4  Nomenclature -A parameters and sets l]p35pt p2...   \n",
       "\n",
       "                                              nougat  \\\n",
       "0  # Communities in C.elegans connectome through ...   \n",
       "1  # Self-organized vortex phases and hydrodynami...   \n",
       "2  # Collective Arbitrage and the Value of Cooper...   \n",
       "3  # Predicting Strategic Energy Storage Behavior...   \n",
       "4  Optimally Coordinated Energy Management Framew...   \n",
       "\n",
       "                                             pymupdf  \\\n",
       "0  Communities in C.elegans connectome through th...   \n",
       "1  Self-organized vortex phases and hydrodynamic ...   \n",
       "2  arXiv:2306.11599v2  [q-fin.MF]  30 May 2024\\nC...   \n",
       "3  1\\nPredicting Strategic Energy Storage Behavio...   \n",
       "4  IEEE SYSTEMS JOURNAL L\\nA\\nT\\nEX CLASS FILES, ...   \n",
       "\n",
       "                                              grobid  \n",
       "0  The fundamental relationship between the mesos...  \n",
       "1  Flocking behavior is observed in biological sy...  \n",
       "2  We introduce the notions of Collective Arbitra...  \n",
       "3  Energy storage are strategic participants in e...  \n",
       "4  Contemporary distribution network can be seen ...  "
      ]
     },
     "execution_count": 5,
     "metadata": {},
     "output_type": "execute_result"
    }
   ],
   "source": [
    "df.head()"
   ]
  },
  {
   "cell_type": "code",
   "execution_count": 25,
   "id": "a8d96d8e-82c4-49cd-9462-e0a40c00a547",
   "metadata": {},
   "outputs": [],
   "source": [
    "# Define file paths\n",
    "source_path = '/lus/eagle/projects/argonne_tpc/siebenschuh/aurora_gpt/database/outraw_0.csv'\n",
    "destination_path = '/lus/eagle/projects/argonne_tpc/siebenschuh/aurora_gpt/database/mini_0.csv'\n",
    "\n",
    "# Load only the first 50 rows of the source CSV\n",
    "df_50 = pd.read_csv(source_path, sep='|').iloc[:100]\n",
    "\n",
    "# Save the subset to the destination path\n",
    "df_50.to_csv(destination_path, sep='|', index=False)"
   ]
  },
  {
   "cell_type": "code",
   "execution_count": 15,
   "id": "e2b43ea8-8a32-4132-97ea-899685f7e44d",
   "metadata": {},
   "outputs": [],
   "source": [
    "#df_50.dropna(inplace=True)"
   ]
  },
  {
   "cell_type": "code",
   "execution_count": 17,
   "id": "4b69a3dc-e083-4c27-a7e5-e30dacfdb082",
   "metadata": {},
   "outputs": [],
   "source": [
    "#len(df_50)"
   ]
  },
  {
   "cell_type": "code",
   "execution_count": 18,
   "id": "b4426048-26fa-4576-b071-169cc339787d",
   "metadata": {},
   "outputs": [],
   "source": [
    "#df_50.to_csv(destination_path, index=False)"
   ]
  },
  {
   "cell_type": "markdown",
   "id": "a167652b-f0f1-44d0-a188-add1888a6f16",
   "metadata": {},
   "source": [
    "## 3. Check Table with Scores"
   ]
  },
  {
   "cell_type": "code",
   "execution_count": 20,
   "id": "9903ecd3-1645-492a-95ed-b1d851e33ebb",
   "metadata": {},
   "outputs": [
    {
     "data": {
      "text/plain": [
       "Index(['Unnamed: 0', 'path,html,nougat,pymupdf,grobid'], dtype='object')"
      ]
     },
     "execution_count": 20,
     "metadata": {},
     "output_type": "execute_result"
    }
   ],
   "source": [
    "p_csv_score = '/lus/eagle/projects/argonne_tpc/siebenschuh/aurora_gpt/database/mini_with_scores_0.csv'\n",
    "df_score = pd.read_csv(p_csv_score, sep='|')\n",
    "\n",
    "df_score.columns"
   ]
  },
  {
   "cell_type": "code",
   "execution_count": 23,
   "id": "97e48976-74af-4fcf-a0c1-25dd1afac306",
   "metadata": {},
   "outputs": [
    {
     "data": {
      "text/html": [
       "<div>\n",
       "<style scoped>\n",
       "    .dataframe tbody tr th:only-of-type {\n",
       "        vertical-align: middle;\n",
       "    }\n",
       "\n",
       "    .dataframe tbody tr th {\n",
       "        vertical-align: top;\n",
       "    }\n",
       "\n",
       "    .dataframe thead th {\n",
       "        text-align: right;\n",
       "    }\n",
       "</style>\n",
       "<table border=\"1\" class=\"dataframe\">\n",
       "  <thead>\n",
       "    <tr style=\"text-align: right;\">\n",
       "      <th></th>\n",
       "      <th>Unnamed: 0</th>\n",
       "      <th>path,html,nougat,pymupdf,grobid</th>\n",
       "    </tr>\n",
       "  </thead>\n",
       "  <tbody>\n",
       "    <tr>\n",
       "      <th>0</th>\n",
       "      <td>0</td>\n",
       "      <td>arxiv/pdf/2207.11282v4.pdf,\"Abstract The funda...</td>\n",
       "    </tr>\n",
       "    <tr>\n",
       "      <th>1</th>\n",
       "      <td>1</td>\n",
       "      <td>Arsenii A. Onuchin\\({}^{1,2}\\), Alina V. Chern...</td>\n",
       "    </tr>\n",
       "    <tr>\n",
       "      <th>2</th>\n",
       "      <td>2</td>\n",
       "      <td>\\({}^{1}\\)Skolkovo Institute of Science and Te...</td>\n",
       "    </tr>\n",
       "    <tr>\n",
       "      <th>3</th>\n",
       "      <td>3</td>\n",
       "      <td>\\({}^{2}\\)Laboratory of Complex Networks,</td>\n",
       "    </tr>\n",
       "    <tr>\n",
       "      <th>4</th>\n",
       "      <td>4</td>\n",
       "      <td>Center for Neurophysics and Neuromorphic Techn...</td>\n",
       "    </tr>\n",
       "  </tbody>\n",
       "</table>\n",
       "</div>"
      ],
      "text/plain": [
       "   Unnamed: 0                    path,html,nougat,pymupdf,grobid\n",
       "0           0  arxiv/pdf/2207.11282v4.pdf,\"Abstract The funda...\n",
       "1           1  Arsenii A. Onuchin\\({}^{1,2}\\), Alina V. Chern...\n",
       "2           2  \\({}^{1}\\)Skolkovo Institute of Science and Te...\n",
       "3           3          \\({}^{2}\\)Laboratory of Complex Networks,\n",
       "4           4  Center for Neurophysics and Neuromorphic Techn..."
      ]
     },
     "execution_count": 23,
     "metadata": {},
     "output_type": "execute_result"
    }
   ],
   "source": [
    "df_score.head()"
   ]
  },
  {
   "cell_type": "code",
   "execution_count": null,
   "id": "b8869362-9bfb-4c37-ae13-1151881e95b2",
   "metadata": {},
   "outputs": [],
   "source": []
  }
 ],
 "metadata": {
  "kernelspec": {
   "display_name": "bo",
   "language": "python",
   "name": "bo"
  },
  "language_info": {
   "codemirror_mode": {
    "name": "ipython",
    "version": 3
   },
   "file_extension": ".py",
   "mimetype": "text/x-python",
   "name": "python",
   "nbconvert_exporter": "python",
   "pygments_lexer": "ipython3",
   "version": "3.11.9"
  }
 },
 "nbformat": 4,
 "nbformat_minor": 5
}
