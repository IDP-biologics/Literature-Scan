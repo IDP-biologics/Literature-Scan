{
 "cells": [
  {
   "cell_type": "code",
   "execution_count": 1,
   "id": "4e1da610-dbae-44ef-b8f2-69bc09f0697a",
   "metadata": {},
   "outputs": [],
   "source": [
    "from pathlib import Path\n",
    "from jsonl_data_utils import JsonlModifier"
   ]
  },
  {
   "cell_type": "code",
   "execution_count": 2,
   "id": "a1b8ebd0-33eb-4b67-ba20-0cad64f8cef1",
   "metadata": {},
   "outputs": [],
   "source": [
    "jm = JsonlModifier(new_root_dir='/eagle/projects/argonne_tpc/siebenschuh/aurora_gpt/joint',\n",
    "                   jsonl_dir_path='/eagle/projects/argonne_tpc/siebenschuh/aurora_gpt/joint_to_nougat/parsed_pdfs/')"
   ]
  },
  {
   "cell_type": "code",
   "execution_count": 1,
   "id": "2de40361-861a-4fd7-9b8a-0662a622ea41",
   "metadata": {},
   "outputs": [],
   "source": [
    "# change `path` entries to newroot_dir\n",
    "# jm.modify_jsonl_paths()"
   ]
  },
  {
   "cell_type": "code",
   "execution_count": 2,
   "id": "1f2d14e6-832e-4676-9964-25e2df451eb3",
   "metadata": {},
   "outputs": [],
   "source": [
    "# Check if new jsonl's are valid - if so, delte old ones and rename new ones to have old one's name\n",
    "#jm.replace_old_with_new()"
   ]
  },
  {
   "cell_type": "code",
   "execution_count": null,
   "id": "50a08c97-f7b6-4a92-84cb-2e2caf9c45e3",
   "metadata": {},
   "outputs": [],
   "source": []
  }
 ],
 "metadata": {
  "kernelspec": {
   "display_name": "bo",
   "language": "python",
   "name": "bo"
  },
  "language_info": {
   "codemirror_mode": {
    "name": "ipython",
    "version": 3
   },
   "file_extension": ".py",
   "mimetype": "text/x-python",
   "name": "python",
   "nbconvert_exporter": "python",
   "pygments_lexer": "ipython3",
   "version": "3.11.9"
  }
 },
 "nbformat": 4,
 "nbformat_minor": 5
}
