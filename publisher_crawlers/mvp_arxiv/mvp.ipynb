{
 "cells": [
  {
   "cell_type": "code",
   "execution_count": 1,
   "id": "ac2fa64d-67d3-4386-aebe-0a290526babb",
   "metadata": {},
   "outputs": [],
   "source": [
    "from mvp_arxiv_utils import ArXiV_MVP"
   ]
  },
  {
   "cell_type": "code",
   "execution_count": 2,
   "id": "ede8ecd1-ee0f-481a-910d-2121f1b192dc",
   "metadata": {},
   "outputs": [],
   "source": [
    "all_search_words = []\n",
    "\n",
    "for i in range(1,6):\n",
    "    arx = ArXiV_MVP(i)\n",
    "    \n",
    "    all_search_words += arx.search_words"
   ]
  },
  {
   "cell_type": "code",
   "execution_count": null,
   "id": "94cc0ea7-6d88-4bb1-a251-c13c7425115d",
   "metadata": {},
   "outputs": [],
   "source": [
    "for search_word in arx.search_words:\n",
    "    outlist = arx.get_arxiv_articles_with_html(query=search_word, max_results=12, download=True)\n",
    "    break"
   ]
  },
  {
   "cell_type": "code",
   "execution_count": null,
   "id": "847e55ef-2462-4e48-9774-1571cba0ffa6",
   "metadata": {},
   "outputs": [],
   "source": []
  }
 ],
 "metadata": {
  "kernelspec": {
   "display_name": "bo",
   "language": "python",
   "name": "bo"
  },
  "language_info": {
   "codemirror_mode": {
    "name": "ipython",
    "version": 3
   },
   "file_extension": ".py",
   "mimetype": "text/x-python",
   "name": "python",
   "nbconvert_exporter": "python",
   "pygments_lexer": "ipython3",
   "version": "3.11.9"
  }
 },
 "nbformat": 4,
 "nbformat_minor": 5
}
