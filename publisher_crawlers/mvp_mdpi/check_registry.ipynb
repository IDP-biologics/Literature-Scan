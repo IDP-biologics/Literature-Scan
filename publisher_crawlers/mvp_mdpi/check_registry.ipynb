{
 "cells": [
  {
   "cell_type": "code",
   "execution_count": 1,
   "id": "508eeaa9-21a9-4fbc-8a3f-4e9f3a20d404",
   "metadata": {},
   "outputs": [],
   "source": [
    "import pandas as pd"
   ]
  },
  {
   "cell_type": "code",
   "execution_count": null,
   "id": "ba56ea7b-854d-4b3e-a9af-79b9632e86ce",
   "metadata": {},
   "outputs": [],
   "source": [
    "for _,row in df.iterrows():\n",
    "    # metadata\n",
    "    title   = row['title']\n",
    "    authors = row['authors']\n",
    "    journal = row['journal']\n",
    "    year    = row['year']\n",
    "    \n",
    "    # URLs\n",
    "    html_url = row['html_url']\n",
    "    pdf_url  = row['pdf_url']\n",
    "\n",
    "    # break "
   ]
  },
  {
   "cell_type": "code",
   "execution_count": null,
   "id": "1d0d4f80-cd9e-40d7-a901-9813e112ccce",
   "metadata": {},
   "outputs": [],
   "source": []
  },
  {
   "cell_type": "code",
   "execution_count": null,
   "id": "9bac2a9c-53e9-4647-b58e-f5b1971417c9",
   "metadata": {},
   "outputs": [],
   "source": [
    "#df = pd.read_csv('./registry/mdpi_database.csv', sep='|')\n",
    "\n",
    "# loop entries\n",
    "for _,row in df_sub.iterrows():\n",
    "    doi = str(row['html_url']).split('www.mdpi.com/')[-1].replace('/', '.')  # df['html_url'][0].split('www.mdpi.com/')[-1].replace('/', '.')\n",
    "    file_stem = doi.replace('/', '_')\n",
    "    break"
   ]
  },
  {
   "cell_type": "code",
   "execution_count": null,
   "id": "eb320bc6-7a84-4587-8a36-db2d2a6429b1",
   "metadata": {},
   "outputs": [],
   "source": []
  }
 ],
 "metadata": {
  "kernelspec": {
   "display_name": "bo",
   "language": "python",
   "name": "bo"
  },
  "language_info": {
   "codemirror_mode": {
    "name": "ipython",
    "version": 3
   },
   "file_extension": ".py",
   "mimetype": "text/x-python",
   "name": "python",
   "nbconvert_exporter": "python",
   "pygments_lexer": "ipython3",
   "version": "3.11.9"
  }
 },
 "nbformat": 4,
 "nbformat_minor": 5
}
