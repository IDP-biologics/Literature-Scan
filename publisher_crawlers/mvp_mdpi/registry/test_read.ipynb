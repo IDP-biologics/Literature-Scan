{
 "cells": [
  {
   "cell_type": "code",
   "execution_count": 1,
   "id": "870ce531-c95b-42d7-be25-6665251b320f",
   "metadata": {},
   "outputs": [],
   "source": [
    "import pandas as pd"
   ]
  },
  {
   "cell_type": "code",
   "execution_count": 2,
   "id": "760df49a-918f-47b4-8626-9ab2b0370bb6",
   "metadata": {},
   "outputs": [],
   "source": [
    "df = pd.read_csv('mdpi_database.csv', sep='|')"
   ]
  },
  {
   "cell_type": "code",
   "execution_count": 3,
   "id": "7e081471-ea8a-4879-bcf1-7ec3972a14f1",
   "metadata": {},
   "outputs": [
    {
     "data": {
      "text/html": [
       "<div>\n",
       "<style scoped>\n",
       "    .dataframe tbody tr th:only-of-type {\n",
       "        vertical-align: middle;\n",
       "    }\n",
       "\n",
       "    .dataframe tbody tr th {\n",
       "        vertical-align: top;\n",
       "    }\n",
       "\n",
       "    .dataframe thead th {\n",
       "        text-align: right;\n",
       "    }\n",
       "</style>\n",
       "<table border=\"1\" class=\"dataframe\">\n",
       "  <thead>\n",
       "    <tr style=\"text-align: right;\">\n",
       "      <th></th>\n",
       "      <th>Unnamed: 0</th>\n",
       "      <th>title</th>\n",
       "      <th>html_url</th>\n",
       "      <th>pdf_url</th>\n",
       "      <th>authors</th>\n",
       "      <th>journal</th>\n",
       "      <th>year</th>\n",
       "    </tr>\n",
       "  </thead>\n",
       "  <tbody>\n",
       "    <tr>\n",
       "      <th>0</th>\n",
       "      <td>0</td>\n",
       "      <td>Mitochondria in Retinal Ganglion Cells: Unrave...</td>\n",
       "      <td>https://www.mdpi.com/1422-0067/25/16/8626</td>\n",
       "      <td>https://www.mdpi.com/1422-0067/25/16/8626/pdf?...</td>\n",
       "      <td>by Tsai-Hsuan Yang, Eugene Yu-Chuan Kang, Pei-...</td>\n",
       "      <td>Int. J. Mol. Sci.</td>\n",
       "      <td>2024</td>\n",
       "    </tr>\n",
       "    <tr>\n",
       "      <th>1</th>\n",
       "      <td>2</td>\n",
       "      <td>New Insights into Involvement of Low Molecular...</td>\n",
       "      <td>https://www.mdpi.com/1422-0067/25/15/8531</td>\n",
       "      <td>https://www.mdpi.com/1422-0067/25/15/8531/pdf?...</td>\n",
       "      <td>by Magdalena Ruszczyńska and Hubert Sytykiewicz</td>\n",
       "      <td>Int. J. Mol. Sci.</td>\n",
       "      <td>2024</td>\n",
       "    </tr>\n",
       "    <tr>\n",
       "      <th>2</th>\n",
       "      <td>5</td>\n",
       "      <td>Effects of Atorvastatin and Simvastatin on the...</td>\n",
       "      <td>https://www.mdpi.com/1422-0067/25/15/8494</td>\n",
       "      <td>https://www.mdpi.com/1422-0067/25/15/8494/pdf?...</td>\n",
       "      <td>by Krzysztof Wojcicki, Adrianna Budzinska and ...</td>\n",
       "      <td>Int. J. Mol. Sci.</td>\n",
       "      <td>2024</td>\n",
       "    </tr>\n",
       "    <tr>\n",
       "      <th>3</th>\n",
       "      <td>9</td>\n",
       "      <td>Molecular Pro-Apoptotic Activities of Flavanon...</td>\n",
       "      <td>https://www.mdpi.com/1422-0067/25/15/8488</td>\n",
       "      <td>https://www.mdpi.com/1422-0067/25/15/8488/pdf?...</td>\n",
       "      <td>by Angelika A. Adamus-Grabicka, Pawel Hikisz, ...</td>\n",
       "      <td>Int. J. Mol. Sci.</td>\n",
       "      <td>2024</td>\n",
       "    </tr>\n",
       "    <tr>\n",
       "      <th>4</th>\n",
       "      <td>14</td>\n",
       "      <td>Natural Products in the Treatment of Retinopat...</td>\n",
       "      <td>https://www.mdpi.com/1422-0067/25/15/8461</td>\n",
       "      <td>https://www.mdpi.com/1422-0067/25/15/8461/pdf?...</td>\n",
       "      <td>by Jong-Ik Heo and Juhee Ryu</td>\n",
       "      <td>Int. J. Mol. Sci.</td>\n",
       "      <td>2024</td>\n",
       "    </tr>\n",
       "  </tbody>\n",
       "</table>\n",
       "</div>"
      ],
      "text/plain": [
       "   Unnamed: 0                                              title  \\\n",
       "0           0  Mitochondria in Retinal Ganglion Cells: Unrave...   \n",
       "1           2  New Insights into Involvement of Low Molecular...   \n",
       "2           5  Effects of Atorvastatin and Simvastatin on the...   \n",
       "3           9  Molecular Pro-Apoptotic Activities of Flavanon...   \n",
       "4          14  Natural Products in the Treatment of Retinopat...   \n",
       "\n",
       "                                    html_url  \\\n",
       "0  https://www.mdpi.com/1422-0067/25/16/8626   \n",
       "1  https://www.mdpi.com/1422-0067/25/15/8531   \n",
       "2  https://www.mdpi.com/1422-0067/25/15/8494   \n",
       "3  https://www.mdpi.com/1422-0067/25/15/8488   \n",
       "4  https://www.mdpi.com/1422-0067/25/15/8461   \n",
       "\n",
       "                                             pdf_url  \\\n",
       "0  https://www.mdpi.com/1422-0067/25/16/8626/pdf?...   \n",
       "1  https://www.mdpi.com/1422-0067/25/15/8531/pdf?...   \n",
       "2  https://www.mdpi.com/1422-0067/25/15/8494/pdf?...   \n",
       "3  https://www.mdpi.com/1422-0067/25/15/8488/pdf?...   \n",
       "4  https://www.mdpi.com/1422-0067/25/15/8461/pdf?...   \n",
       "\n",
       "                                             authors            journal  year  \n",
       "0  by Tsai-Hsuan Yang, Eugene Yu-Chuan Kang, Pei-...  Int. J. Mol. Sci.  2024  \n",
       "1    by Magdalena Ruszczyńska and Hubert Sytykiewicz  Int. J. Mol. Sci.  2024  \n",
       "2  by Krzysztof Wojcicki, Adrianna Budzinska and ...  Int. J. Mol. Sci.  2024  \n",
       "3  by Angelika A. Adamus-Grabicka, Pawel Hikisz, ...  Int. J. Mol. Sci.  2024  \n",
       "4                       by Jong-Ik Heo and Juhee Ryu  Int. J. Mol. Sci.  2024  "
      ]
     },
     "execution_count": 3,
     "metadata": {},
     "output_type": "execute_result"
    }
   ],
   "source": [
    "df.head()"
   ]
  },
  {
   "cell_type": "code",
   "execution_count": 9,
   "id": "ba807774-31ea-4a44-86fd-3a17dddc7bdd",
   "metadata": {},
   "outputs": [
    {
     "data": {
      "text/plain": [
       "'1422-0067.25.16.8626'"
      ]
     },
     "execution_count": 9,
     "metadata": {},
     "output_type": "execute_result"
    }
   ],
   "source": [
    "df['html_url'][0].split('www.mdpi.com/')[-1].replace('/', '.') + '.'"
   ]
  },
  {
   "cell_type": "code",
   "execution_count": null,
   "id": "7533ecc2-5670-4a5c-b39a-75068e87c5f7",
   "metadata": {},
   "outputs": [],
   "source": []
  }
 ],
 "metadata": {
  "kernelspec": {
   "display_name": "bo",
   "language": "python",
   "name": "bo"
  },
  "language_info": {
   "codemirror_mode": {
    "name": "ipython",
    "version": 3
   },
   "file_extension": ".py",
   "mimetype": "text/x-python",
   "name": "python",
   "nbconvert_exporter": "python",
   "pygments_lexer": "ipython3",
   "version": "3.11.9"
  }
 },
 "nbformat": 4,
 "nbformat_minor": 5
}
