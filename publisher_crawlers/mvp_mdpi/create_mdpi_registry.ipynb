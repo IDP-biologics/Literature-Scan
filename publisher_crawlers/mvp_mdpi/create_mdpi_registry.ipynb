{
 "cells": [
  {
   "cell_type": "code",
   "execution_count": 1,
   "id": "a76ddd14-81fa-4d1e-bb2c-a62e59e55368",
   "metadata": {},
   "outputs": [],
   "source": [
    "from mvp_mdpi_utils import MDPI_Spyder\n",
    "import pandas as pd"
   ]
  },
  {
   "cell_type": "code",
   "execution_count": 2,
   "id": "81c4418d-e65f-401d-961a-32ab9994c829",
   "metadata": {},
   "outputs": [],
   "source": [
    "m = MDPI_Spyder()\n",
    "m.create_registry()"
   ]
  },
  {
   "cell_type": "code",
   "execution_count": 7,
   "id": "46cd8c34-3fd7-4130-bd2f-4e4dcfeb7f27",
   "metadata": {},
   "outputs": [
    {
     "data": {
      "text/plain": [
       "3953"
      ]
     },
     "execution_count": 7,
     "metadata": {},
     "output_type": "execute_result"
    }
   ],
   "source": [
    "len(pd.read_csv('./registry/mdpi_database.csv', sep='|'))"
   ]
  }
 ],
 "metadata": {
  "kernelspec": {
   "display_name": "bo",
   "language": "python",
   "name": "bo"
  },
  "language_info": {
   "codemirror_mode": {
    "name": "ipython",
    "version": 3
   },
   "file_extension": ".py",
   "mimetype": "text/x-python",
   "name": "python",
   "nbconvert_exporter": "python",
   "pygments_lexer": "ipython3",
   "version": "3.11.9"
  }
 },
 "nbformat": 4,
 "nbformat_minor": 5
}
